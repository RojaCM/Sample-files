{
  "nbformat": 4,
  "nbformat_minor": 0,
  "metadata": {
    "colab": {
      "name": "Untitled64.ipynb",
      "provenance": [],
      "authorship_tag": "ABX9TyNPkMbW+ZHRLfPPVk0WEkDw",
      "include_colab_link": true
    },
    "kernelspec": {
      "name": "python3",
      "display_name": "Python 3"
    },
    "language_info": {
      "name": "python"
    }
  },
  "cells": [
    {
      "cell_type": "markdown",
      "metadata": {
        "id": "view-in-github",
        "colab_type": "text"
      },
      "source": [
        "<a href=\"https://colab.research.google.com/github/RojaCM/Sample-files/blob/main/Python-class%20basics.ipynb\" target=\"_parent\"><img src=\"https://colab.research.google.com/assets/colab-badge.svg\" alt=\"Open In Colab\"/></a>"
      ]
    },
    {
      "cell_type": "code",
      "metadata": {
        "id": "vbj1XszywCkF"
      },
      "source": [
        "class Human:\n",
        "  def __init__(self,n,o):\n",
        "    self.name = n\n",
        "    self.occupation = o\n",
        "\n",
        "  def do_work(self):\n",
        "    if self.occupation == 'Software engg':\n",
        "      print(self.name,\"works as as IT professional\")\n",
        "    elif self.occupation == 'actor':\n",
        "      print(self.name,\"shoots a film\")\n",
        "\n",
        "  def speaks(self):\n",
        "    print(self.name,'says how are you')\n",
        ":"
      ],
      "execution_count": null,
      "outputs": []
    },
    {
      "cell_type": "code",
      "metadata": {
        "id": "ddpx-TXhzfo6"
      },
      "source": [
        "o1 = Human('roja',\"Software engg\")"
      ],
      "execution_count": null,
      "outputs": []
    },
    {
      "cell_type": "code",
      "metadata": {
        "colab": {
          "base_uri": "https://localhost:8080/"
        },
        "id": "LDWnDTIwzs8Q",
        "outputId": "4c207971-b16f-4391-f2e8-6b060f39937f"
      },
      "source": [
        "o1.do_work()\n",
        "o1.speaks()"
      ],
      "execution_count": null,
      "outputs": [
        {
          "output_type": "stream",
          "text": [
            "roja works as as IT professional\n",
            "roja says how are you\n"
          ],
          "name": "stdout"
        }
      ]
    },
    {
      "cell_type": "code",
      "metadata": {
        "id": "rg7yf_dJ0OW-"
      },
      "source": [
        "o2 = Human('riya','actor')"
      ],
      "execution_count": null,
      "outputs": []
    },
    {
      "cell_type": "code",
      "metadata": {
        "colab": {
          "base_uri": "https://localhost:8080/"
        },
        "id": "beskxLit1JV4",
        "outputId": "4174ecc0-8b4a-4e89-86a4-507f68385615"
      },
      "source": [
        "o2.do_work()\n",
        "o2.speaks"
      ],
      "execution_count": null,
      "outputs": [
        {
          "output_type": "stream",
          "text": [
            "riya shoots a film\n",
            "riya says how are you\n"
          ],
          "name": "stdout"
        }
      ]
    },
    {
      "cell_type": "code",
      "metadata": {
        "id": "kJ7-pgtQ1Noh"
      },
      "source": [
        "class car:\n",
        "  def __init__(self,windows,doors,enginetype):\n",
        "    car.window=windows\n",
        "    car.door=doors\n",
        "    car.enginetype=enginetype\n",
        "  \n",
        "  def self_driving(self):\n",
        "    print(f\"this car enginetype is {self.enginetype}\")\n",
        "\n",
        "  \n",
        "\n",
        "  "
      ],
      "execution_count": null,
      "outputs": []
    },
    {
      "cell_type": "code",
      "metadata": {
        "colab": {
          "base_uri": "https://localhost:8080/"
        },
        "id": "Dgp_fXR71O3Y",
        "outputId": "68acc3bd-5ea5-4466-dee3-a7a8eb9f5e63"
      },
      "source": [
        "car1 = car(4,4,\"diesel\")\n",
        "car1.self_driving()"
      ],
      "execution_count": null,
      "outputs": [
        {
          "output_type": "stream",
          "text": [
            "this car enginetype is diesel\n"
          ],
          "name": "stdout"
        }
      ]
    },
    {
      "cell_type": "code",
      "metadata": {
        "colab": {
          "base_uri": "https://localhost:8080/"
        },
        "id": "5byPQQ-Q1O-r",
        "outputId": "99912080-9403-492c-bdc1-cd4326245100"
      },
      "source": [
        "car1.window"
      ],
      "execution_count": null,
      "outputs": [
        {
          "output_type": "execute_result",
          "data": {
            "text/plain": [
              "4"
            ]
          },
          "metadata": {
            "tags": []
          },
          "execution_count": 29
        }
      ]
    },
    {
      "cell_type": "code",
      "metadata": {
        "colab": {
          "base_uri": "https://localhost:8080/"
        },
        "id": "shoZ342w1PEq",
        "outputId": "9bbd7db9-1bd0-491b-c94b-d1a16b7f85f7"
      },
      "source": [
        "car1.door"
      ],
      "execution_count": null,
      "outputs": [
        {
          "output_type": "execute_result",
          "data": {
            "text/plain": [
              "4"
            ]
          },
          "metadata": {
            "tags": []
          },
          "execution_count": 30
        }
      ]
    },
    {
      "cell_type": "code",
      "metadata": {
        "colab": {
          "base_uri": "https://localhost:8080/",
          "height": 35
        },
        "id": "zGZ_HrnCBpaD",
        "outputId": "a32bba47-cdce-4826-be32-5ed1a82e2ef3"
      },
      "source": [
        "car1.enginetype"
      ],
      "execution_count": null,
      "outputs": [
        {
          "output_type": "execute_result",
          "data": {
            "application/vnd.google.colaboratory.intrinsic+json": {
              "type": "string"
            },
            "text/plain": [
              "'diesel'"
            ]
          },
          "metadata": {
            "tags": []
          },
          "execution_count": 31
        }
      ]
    },
    {
      "cell_type": "code",
      "metadata": {
        "id": "hwnycQQzBr-E"
      },
      "source": [
        ""
      ],
      "execution_count": null,
      "outputs": []
    }
  ]
}