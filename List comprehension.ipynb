{
  "nbformat": 4,
  "nbformat_minor": 0,
  "metadata": {
    "colab": {
      "name": "Untitled66.ipynb",
      "provenance": [],
      "authorship_tag": "ABX9TyPFsj4107T7JVRjZW+G0XZJ",
      "include_colab_link": true
    },
    "kernelspec": {
      "name": "python3",
      "display_name": "Python 3"
    },
    "language_info": {
      "name": "python"
    }
  },
  "cells": [
    {
      "cell_type": "markdown",
      "metadata": {
        "id": "view-in-github",
        "colab_type": "text"
      },
      "source": [
        "<a href=\"https://colab.research.google.com/github/RojaCM/Sample-files/blob/main/List%20comprehension.ipynb\" target=\"_parent\"><img src=\"https://colab.research.google.com/assets/colab-badge.svg\" alt=\"Open In Colab\"/></a>"
      ]
    },
    {
      "cell_type": "markdown",
      "metadata": {
        "id": "Ghh1ju-zgkZO"
      },
      "source": [
        "### Lambda function is anonyms function\n",
        "### it is a function without name"
      ]
    },
    {
      "cell_type": "code",
      "metadata": {
        "id": "vUOE7pwsfeCO"
      },
      "source": [
        "add = lambda a,b:a+b"
      ],
      "execution_count": null,
      "outputs": []
    },
    {
      "cell_type": "code",
      "metadata": {
        "colab": {
          "base_uri": "https://localhost:8080/"
        },
        "id": "vM2snr_yflE6",
        "outputId": "ed9fbb19-95d5-4764-e84b-c801052b7aa8"
      },
      "source": [
        "add"
      ],
      "execution_count": null,
      "outputs": [
        {
          "output_type": "execute_result",
          "data": {
            "text/plain": [
              "33"
            ]
          },
          "metadata": {
            "tags": []
          },
          "execution_count": 3
        }
      ]
    },
    {
      "cell_type": "code",
      "metadata": {
        "id": "wg9WO408fnNb"
      },
      "source": [
        "even_odd = lambda a:a%2==0"
      ],
      "execution_count": null,
      "outputs": []
    },
    {
      "cell_type": "code",
      "metadata": {
        "colab": {
          "base_uri": "https://localhost:8080/"
        },
        "id": "pIEQS5k3f5Sc",
        "outputId": "defe791e-9d1b-41f2-900a-96e92adc169e"
      },
      "source": [
        "even_odd(45)"
      ],
      "execution_count": null,
      "outputs": [
        {
          "output_type": "execute_result",
          "data": {
            "text/plain": [
              "False"
            ]
          },
          "metadata": {
            "tags": []
          },
          "execution_count": 5
        }
      ]
    },
    {
      "cell_type": "code",
      "metadata": {
        "colab": {
          "base_uri": "https://localhost:8080/"
        },
        "id": "R1BfqJ2uf7Vv",
        "outputId": "1cc93073-f880-4520-cc2c-c4fb7a9e4611"
      },
      "source": [
        "even_odd(22)"
      ],
      "execution_count": null,
      "outputs": [
        {
          "output_type": "execute_result",
          "data": {
            "text/plain": [
              "True"
            ]
          },
          "metadata": {
            "tags": []
          },
          "execution_count": 6
        }
      ]
    },
    {
      "cell_type": "code",
      "metadata": {
        "id": "IiWLS7tYf9yM"
      },
      "source": [
        "add3 = lambda a,b,c:a+b+c"
      ],
      "execution_count": null,
      "outputs": []
    },
    {
      "cell_type": "code",
      "metadata": {
        "colab": {
          "base_uri": "https://localhost:8080/"
        },
        "id": "qK1pvt70gEx7",
        "outputId": "dbefcae7-963c-45e1-b3fe-53a8638bb707"
      },
      "source": [
        "add3(45,65,34)"
      ],
      "execution_count": null,
      "outputs": [
        {
          "output_type": "execute_result",
          "data": {
            "text/plain": [
              "144"
            ]
          },
          "metadata": {
            "tags": []
          },
          "execution_count": 8
        }
      ]
    },
    {
      "cell_type": "markdown",
      "metadata": {
        "id": "qWQSQX3NgIPC"
      },
      "source": [
        "Map Functions  - it will be use instead of using FOR loops"
      ]
    },
    {
      "cell_type": "code",
      "metadata": {
        "id": "jNm6ApnwgI9_"
      },
      "source": [
        "num = [1,2,4,3,4,5,6,8,4,2,3,6,7,9,5,4,1,2,4,5]"
      ],
      "execution_count": null,
      "outputs": []
    },
    {
      "cell_type": "code",
      "metadata": {
        "colab": {
          "base_uri": "https://localhost:8080/"
        },
        "id": "U9fHXNsigJFj",
        "outputId": "3420561f-61a3-49ad-f450-aa18493dde6c"
      },
      "source": [
        "for i in num:\n",
        "   if i%2==0:\n",
        "     print(\"even\")\n",
        "   else:\n",
        "     print(\"odd\")"
      ],
      "execution_count": null,
      "outputs": [
        {
          "output_type": "stream",
          "text": [
            "odd\n",
            "even\n",
            "even\n",
            "odd\n",
            "even\n",
            "odd\n",
            "even\n",
            "even\n",
            "even\n",
            "even\n",
            "odd\n",
            "even\n",
            "odd\n",
            "odd\n",
            "odd\n",
            "even\n",
            "odd\n",
            "even\n",
            "even\n",
            "odd\n"
          ],
          "name": "stdout"
        }
      ]
    },
    {
      "cell_type": "code",
      "metadata": {
        "colab": {
          "base_uri": "https://localhost:8080/",
          "height": 35
        },
        "id": "o7rgG1Mvldcw",
        "outputId": "7455d8f0-5a41-4e0d-e4f1-22af15719374"
      },
      "source": [
        "even_odd(num)"
      ],
      "execution_count": null,
      "outputs": [
        {
          "output_type": "execute_result",
          "data": {
            "application/vnd.google.colaboratory.intrinsic+json": {
              "type": "string"
            },
            "text/plain": [
              "'odd'"
            ]
          },
          "metadata": {
            "tags": []
          },
          "execution_count": 22
        }
      ]
    },
    {
      "cell_type": "code",
      "metadata": {
        "id": "oSzVUYswlfy4"
      },
      "source": [
        "def even_sum(num):\n",
        "  if num%2 == 0:\n",
        "    return f\"the {num} is even\"\n",
        "  else:\n",
        "    return f\"the {num} is odd\"\n"
      ],
      "execution_count": null,
      "outputs": []
    },
    {
      "cell_type": "code",
      "metadata": {
        "colab": {
          "base_uri": "https://localhost:8080/"
        },
        "id": "7sP9TZRFn3Oo",
        "outputId": "ae406443-4a62-4c26-f64b-b5ad2149ec8e"
      },
      "source": [
        "list(map(even_sum,num))"
      ],
      "execution_count": null,
      "outputs": [
        {
          "output_type": "execute_result",
          "data": {
            "text/plain": [
              "['the 1 is odd',\n",
              " 'the 2 is even',\n",
              " 'the 4 is even',\n",
              " 'the 3 is odd',\n",
              " 'the 4 is even',\n",
              " 'the 5 is odd',\n",
              " 'the 6 is even',\n",
              " 'the 8 is even',\n",
              " 'the 4 is even',\n",
              " 'the 2 is even',\n",
              " 'the 3 is odd',\n",
              " 'the 6 is even',\n",
              " 'the 7 is odd',\n",
              " 'the 9 is odd',\n",
              " 'the 5 is odd',\n",
              " 'the 4 is even',\n",
              " 'the 1 is odd',\n",
              " 'the 2 is even',\n",
              " 'the 4 is even',\n",
              " 'the 5 is odd']"
            ]
          },
          "metadata": {
            "tags": []
          },
          "execution_count": 36
        }
      ]
    },
    {
      "cell_type": "markdown",
      "metadata": {
        "id": "BktIxmAQobCE"
      },
      "source": [
        "Filter Functions"
      ]
    },
    {
      "cell_type": "code",
      "metadata": {
        "id": "ebz9j5giobJp"
      },
      "source": [
        "def even_odd_num(lst):\n",
        "  if lst %2 == 0:\n",
        "    return True"
      ],
      "execution_count": null,
      "outputs": []
    },
    {
      "cell_type": "code",
      "metadata": {
        "id": "uBhHL1WJobOv"
      },
      "source": [
        "lst = [2,3,4,6,5,1,2,3,8,7,6,3,88,64,22]"
      ],
      "execution_count": null,
      "outputs": []
    },
    {
      "cell_type": "code",
      "metadata": {
        "colab": {
          "base_uri": "https://localhost:8080/"
        },
        "id": "PFtAkNFeobUS",
        "outputId": "be38d7a0-890d-415a-f17b-94323cb31000"
      },
      "source": [
        "list(filter(even_odd_num,lst))"
      ],
      "execution_count": null,
      "outputs": [
        {
          "output_type": "execute_result",
          "data": {
            "text/plain": [
              "[2, 4, 6, 2, 8, 6, 88, 64, 22]"
            ]
          },
          "metadata": {
            "tags": []
          },
          "execution_count": 42
        }
      ]
    },
    {
      "cell_type": "code",
      "metadata": {
        "colab": {
          "base_uri": "https://localhost:8080/"
        },
        "id": "YBPuh9IsobZU",
        "outputId": "058ddc8f-18d2-47d0-bcea-18ce3db1ee8f"
      },
      "source": [
        "list(map(even_odd_num,lst))"
      ],
      "execution_count": null,
      "outputs": [
        {
          "output_type": "execute_result",
          "data": {
            "text/plain": [
              "[True,\n",
              " None,\n",
              " True,\n",
              " True,\n",
              " None,\n",
              " None,\n",
              " True,\n",
              " None,\n",
              " True,\n",
              " None,\n",
              " True,\n",
              " None,\n",
              " True,\n",
              " True,\n",
              " True]"
            ]
          },
          "metadata": {
            "tags": []
          },
          "execution_count": 43
        }
      ]
    },
    {
      "cell_type": "code",
      "metadata": {
        "colab": {
          "base_uri": "https://localhost:8080/"
        },
        "id": "sDRla081sfIo",
        "outputId": "bc0bac26-41c8-48d4-c64c-0419de94d793"
      },
      "source": [
        "list(filter(lambda a:a%2==0,lst))"
      ],
      "execution_count": null,
      "outputs": [
        {
          "output_type": "execute_result",
          "data": {
            "text/plain": [
              "[2, 4, 6, 2, 8, 6, 88, 64, 22]"
            ]
          },
          "metadata": {
            "tags": []
          },
          "execution_count": 44
        }
      ]
    },
    {
      "cell_type": "code",
      "metadata": {
        "colab": {
          "base_uri": "https://localhost:8080/"
        },
        "id": "sFFXez-9sviu",
        "outputId": "0f1546d0-356c-4419-fc44-e5fbe749b7c0"
      },
      "source": [
        "list(map(lambda a:a%2==0,lst))"
      ],
      "execution_count": null,
      "outputs": [
        {
          "output_type": "execute_result",
          "data": {
            "text/plain": [
              "[True,\n",
              " False,\n",
              " True,\n",
              " True,\n",
              " False,\n",
              " False,\n",
              " True,\n",
              " False,\n",
              " True,\n",
              " False,\n",
              " True,\n",
              " False,\n",
              " True,\n",
              " True,\n",
              " True]"
            ]
          },
          "metadata": {
            "tags": []
          },
          "execution_count": 45
        }
      ]
    },
    {
      "cell_type": "markdown",
      "metadata": {
        "id": "NdqIzG_7svpE"
      },
      "source": [
        "COMPREHENSION LISTS - Used to create a lists.\n",
        "[(EXPRESSION)(FOR LOOP)(IF CONDITION)]"
      ]
    },
    {
      "cell_type": "code",
      "metadata": {
        "id": "2Ubrp5gHszyA"
      },
      "source": [
        "lst1 = []\n",
        "def square_num(num):\n",
        "  for i in num:\n",
        "      lst1.append(i*i)\n",
        "  return lst1"
      ],
      "execution_count": 7,
      "outputs": []
    },
    {
      "cell_type": "code",
      "metadata": {
        "id": "9hiyzowXsfUx",
        "colab": {
          "base_uri": "https://localhost:8080/"
        },
        "outputId": "7db2258a-3d66-46a9-8789-88465e79b941"
      },
      "source": [
        "square_num([12,13,14,15,16,17])"
      ],
      "execution_count": 8,
      "outputs": [
        {
          "output_type": "execute_result",
          "data": {
            "text/plain": [
              "[144, 169, 196, 225, 256, 289]"
            ]
          },
          "metadata": {
            "tags": []
          },
          "execution_count": 8
        }
      ]
    },
    {
      "cell_type": "code",
      "metadata": {
        "id": "ZS1jrTTSODDZ"
      },
      "source": [
        "num1 = [12,13,15,16,17,19]"
      ],
      "execution_count": 14,
      "outputs": []
    },
    {
      "cell_type": "code",
      "metadata": {
        "colab": {
          "base_uri": "https://localhost:8080/"
        },
        "id": "EJI_Su-ENePR",
        "outputId": "35949c35-4446-4e21-c58e-c98a6224e82f"
      },
      "source": [
        "[i*i for i in num1 if i % 2==0]"
      ],
      "execution_count": 15,
      "outputs": [
        {
          "output_type": "execute_result",
          "data": {
            "text/plain": [
              "[144, 256]"
            ]
          },
          "metadata": {
            "tags": []
          },
          "execution_count": 15
        }
      ]
    },
    {
      "cell_type": "code",
      "metadata": {
        "id": "OSO11gi3obfJ"
      },
      "source": [
        ""
      ],
      "execution_count": null,
      "outputs": []
    },
    {
      "cell_type": "code",
      "metadata": {
        "id": "FEBchwDqOdvB"
      },
      "source": [
        ""
      ],
      "execution_count": null,
      "outputs": []
    },
    {
      "cell_type": "code",
      "metadata": {
        "id": "jQIz5hRxOd18"
      },
      "source": [
        ""
      ],
      "execution_count": null,
      "outputs": []
    },
    {
      "cell_type": "code",
      "metadata": {
        "id": "5SOIBFEXOd6u"
      },
      "source": [
        ""
      ],
      "execution_count": null,
      "outputs": []
    },
    {
      "cell_type": "code",
      "metadata": {
        "id": "Or1gBWENobk7"
      },
      "source": [
        ""
      ],
      "execution_count": null,
      "outputs": []
    },
    {
      "cell_type": "code",
      "metadata": {
        "id": "3ZzvaLg8n9Ki"
      },
      "source": [
        ""
      ],
      "execution_count": null,
      "outputs": []
    }
  ]
}