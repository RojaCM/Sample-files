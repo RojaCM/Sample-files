{
  "nbformat": 4,
  "nbformat_minor": 0,
  "metadata": {
    "colab": {
      "name": "Untitled126.ipynb",
      "provenance": [],
      "authorship_tag": "ABX9TyM8zPruFgZvNt2D0yT415J5",
      "include_colab_link": true
    },
    "kernelspec": {
      "name": "python3",
      "display_name": "Python 3"
    },
    "language_info": {
      "name": "python"
    }
  },
  "cells": [
    {
      "cell_type": "markdown",
      "metadata": {
        "id": "view-in-github",
        "colab_type": "text"
      },
      "source": [
        "<a href=\"https://colab.research.google.com/github/RojaCM/Sample-files/blob/main/basicfunctions.ipynb\" target=\"_parent\"><img src=\"https://colab.research.google.com/assets/colab-badge.svg\" alt=\"Open In Colab\"/></a>"
      ]
    },
    {
      "cell_type": "markdown",
      "source": [
        "PRINTING THE PATTERNS\n"
      ],
      "metadata": {
        "id": "c9zIy2bsAm-L"
      }
    },
    {
      "cell_type": "code",
      "source": [
        "for i in range(4):\n",
        "  for j in range(4):\n",
        "    print('#',end= ' ')\n",
        "\n",
        "  print()   \n"
      ],
      "metadata": {
        "colab": {
          "base_uri": "https://localhost:8080/"
        },
        "id": "Q9GBLilHA10D",
        "outputId": "4f3edd39-4b20-417e-ab3a-dde23395e67a"
      },
      "execution_count": null,
      "outputs": [
        {
          "output_type": "stream",
          "name": "stdout",
          "text": [
            "# # # # \n",
            "# # # # \n",
            "# # # # \n",
            "# # # # \n"
          ]
        }
      ]
    },
    {
      "cell_type": "code",
      "source": [
        "for i in range(4):\n",
        "  for j in range(i+1):\n",
        "    print('#',end=' ')\n",
        "\n",
        "  print() "
      ],
      "metadata": {
        "colab": {
          "base_uri": "https://localhost:8080/"
        },
        "id": "xGlcJ_opCWNr",
        "outputId": "f8dec0fb-0cd4-46a4-97a0-b035ea6ff6f5"
      },
      "execution_count": null,
      "outputs": [
        {
          "output_type": "stream",
          "name": "stdout",
          "text": [
            "# \n",
            "# # \n",
            "# # # \n",
            "# # # # \n"
          ]
        }
      ]
    },
    {
      "cell_type": "code",
      "source": [
        "for i in range(4):\n",
        "  for j in range(4-i):\n",
        "    print('#',end=' ')\n",
        "    \n",
        "  print()"
      ],
      "metadata": {
        "colab": {
          "base_uri": "https://localhost:8080/"
        },
        "id": "mXpqpbRTDJnj",
        "outputId": "80ac826e-2b7c-4cd5-a67f-0bbe6988e893"
      },
      "execution_count": null,
      "outputs": [
        {
          "output_type": "stream",
          "name": "stdout",
          "text": [
            "# # # # \n",
            "# # # \n",
            "# # \n",
            "# \n"
          ]
        }
      ]
    },
    {
      "cell_type": "code",
      "source": [
        "import numpy as np\n"
      ],
      "metadata": {
        "id": "SxEqpHUjE7qU"
      },
      "execution_count": null,
      "outputs": []
    },
    {
      "cell_type": "code",
      "source": [
        "import array \n",
        "arr = np.array([1,2,3,4.0])"
      ],
      "metadata": {
        "id": "AJNSvaSu_F0H"
      },
      "execution_count": null,
      "outputs": []
    },
    {
      "cell_type": "code",
      "source": [
        "arr.dtype"
      ],
      "metadata": {
        "colab": {
          "base_uri": "https://localhost:8080/"
        },
        "id": "a541X6Ls_8YW",
        "outputId": "45802d18-bc36-47ae-d495-8a305b744f6e"
      },
      "execution_count": null,
      "outputs": [
        {
          "output_type": "execute_result",
          "data": {
            "text/plain": [
              "dtype('float64')"
            ]
          },
          "metadata": {},
          "execution_count": 8
        }
      ]
    },
    {
      "cell_type": "code",
      "source": [
        "arr"
      ],
      "metadata": {
        "colab": {
          "base_uri": "https://localhost:8080/"
        },
        "id": "-XO1KEFK_966",
        "outputId": "872d2097-4a03-4bcb-d7e8-1ffb93a3bcf6"
      },
      "execution_count": null,
      "outputs": [
        {
          "output_type": "execute_result",
          "data": {
            "text/plain": [
              "array([1., 2., 3., 4.])"
            ]
          },
          "metadata": {},
          "execution_count": 9
        }
      ]
    },
    {
      "cell_type": "code",
      "source": [
        "a=np.linspace(0,15,7)"
      ],
      "metadata": {
        "id": "rNYXRmSZAJPB"
      },
      "execution_count": null,
      "outputs": []
    },
    {
      "cell_type": "code",
      "source": [
        "a"
      ],
      "metadata": {
        "colab": {
          "base_uri": "https://localhost:8080/"
        },
        "id": "4AXlQFwnBbBZ",
        "outputId": "76919198-e7c6-4372-b415-b270af74e1f9"
      },
      "execution_count": null,
      "outputs": [
        {
          "output_type": "execute_result",
          "data": {
            "text/plain": [
              "array([ 0. ,  2.5,  5. ,  7.5, 10. , 12.5, 15. ])"
            ]
          },
          "metadata": {},
          "execution_count": 16
        }
      ]
    },
    {
      "cell_type": "code",
      "source": [
        "  b = np.arange(1,20,2)"
      ],
      "metadata": {
        "id": "-JIYQUecBbFf"
      },
      "execution_count": null,
      "outputs": []
    },
    {
      "cell_type": "code",
      "source": [
        "b"
      ],
      "metadata": {
        "colab": {
          "base_uri": "https://localhost:8080/"
        },
        "id": "zGv9AEKWDTwe",
        "outputId": "28e4e56b-24e2-49ef-a9a1-fad60270c6ac"
      },
      "execution_count": null,
      "outputs": [
        {
          "output_type": "execute_result",
          "data": {
            "text/plain": [
              "array([ 1,  3,  5,  7,  9, 11, 13, 15, 17, 19])"
            ]
          },
          "metadata": {},
          "execution_count": 18
        }
      ]
    },
    {
      "cell_type": "code",
      "source": [
        "c=np.logspace(1,5,6)"
      ],
      "metadata": {
        "id": "2fkgD_u4DTz0"
      },
      "execution_count": null,
      "outputs": []
    },
    {
      "cell_type": "code",
      "source": [
        "c"
      ],
      "metadata": {
        "colab": {
          "base_uri": "https://localhost:8080/"
        },
        "id": "BEUE6mEcDdgG",
        "outputId": "d91879f0-38b0-4c43-dca9-8a65663e75ae"
      },
      "execution_count": null,
      "outputs": [
        {
          "output_type": "execute_result",
          "data": {
            "text/plain": [
              "array([1.00000000e+01, 6.30957344e+01, 3.98107171e+02, 2.51188643e+03,\n",
              "       1.58489319e+04, 1.00000000e+05])"
            ]
          },
          "metadata": {},
          "execution_count": 20
        }
      ]
    },
    {
      "cell_type": "code",
      "source": [
        "num=8\n",
        "for i in range(2,num):\n",
        "  if num % i ==0:\n",
        "    print('not a prime')\n",
        "    break\n",
        "else:\n",
        "  print('prime number')\n"
      ],
      "metadata": {
        "id": "PpjzK5fpDdmg",
        "colab": {
          "base_uri": "https://localhost:8080/"
        },
        "outputId": "f6a3822e-ac95-4fa9-a4c2-05590b9fae7a"
      },
      "execution_count": null,
      "outputs": [
        {
          "output_type": "stream",
          "name": "stdout",
          "text": [
            "not a prime\n"
          ]
        }
      ]
    },
    {
      "cell_type": "code",
      "source": [
        "def fib(n):\n",
        "  a=0\n",
        "  b=1\n",
        "  print(a)\n",
        "  print(b)\n",
        "  for i in range(2,n):\n",
        "    \n",
        "    c = a+b\n",
        "    a=b\n",
        "    b=c\n",
        "    print(c)\n"
      ],
      "metadata": {
        "id": "NALAD_tnDdrJ"
      },
      "execution_count": null,
      "outputs": []
    },
    {
      "cell_type": "code",
      "source": [
        "fib(10)"
      ],
      "metadata": {
        "id": "Eobeoy1GDdwk",
        "colab": {
          "base_uri": "https://localhost:8080/"
        },
        "outputId": "99c8752a-73ea-4807-eced-24d48e9f28af"
      },
      "execution_count": null,
      "outputs": [
        {
          "output_type": "stream",
          "name": "stdout",
          "text": [
            "0\n",
            "1\n",
            "1\n",
            "2\n",
            "3\n",
            "5\n",
            "8\n",
            "13\n",
            "21\n",
            "34\n"
          ]
        }
      ]
    },
    {
      "cell_type": "markdown",
      "source": [
        "FACTORIAL NUMBER PROGRAM"
      ],
      "metadata": {
        "id": "x4qsbmiRDT42"
      }
    },
    {
      "cell_type": "code",
      "source": [
        "def fact(n):\n",
        "  f = 1\n",
        "  for i in range(1,n+1):\n",
        "    f = f *i\n",
        "  return f"
      ],
      "metadata": {
        "id": "qzqvbxCGBbIf"
      },
      "execution_count": null,
      "outputs": []
    },
    {
      "cell_type": "code",
      "source": [
        "r= fact(5)"
      ],
      "metadata": {
        "id": "DtCahNzZrg8X"
      },
      "execution_count": null,
      "outputs": []
    },
    {
      "cell_type": "code",
      "source": [
        "r"
      ],
      "metadata": {
        "colab": {
          "base_uri": "https://localhost:8080/"
        },
        "id": "FCJHos6Ms_4z",
        "outputId": "ae0e7a11-dd19-4bd1-e35a-3cb2eeff879f"
      },
      "execution_count": null,
      "outputs": [
        {
          "output_type": "execute_result",
          "data": {
            "text/plain": [
              "120"
            ]
          },
          "metadata": {},
          "execution_count": 35
        }
      ]
    },
    {
      "cell_type": "markdown",
      "source": [
        "Recursion function ---> the fucntion calling itself \n",
        "Factorial using recursion method"
      ],
      "metadata": {
        "id": "x0papPYAtCod"
      }
    },
    {
      "cell_type": "code",
      "source": [
        "def fact(n):\n",
        "  if n==1:\n",
        "    return 1\n",
        "  else:\n",
        "    return n * fact(n-1)"
      ],
      "metadata": {
        "id": "gmx9emietWQH"
      },
      "execution_count": null,
      "outputs": []
    },
    {
      "cell_type": "code",
      "source": [
        "f=fact(5)"
      ],
      "metadata": {
        "id": "jPSv6vLMtWUp"
      },
      "execution_count": null,
      "outputs": []
    },
    {
      "cell_type": "code",
      "source": [
        "f"
      ],
      "metadata": {
        "colab": {
          "base_uri": "https://localhost:8080/"
        },
        "id": "MnptvXzmTAEM",
        "outputId": "28997ec7-a077-4c37-b948-2e2b95c7d9fd"
      },
      "execution_count": null,
      "outputs": [
        {
          "output_type": "execute_result",
          "data": {
            "text/plain": [
              "120"
            ]
          },
          "metadata": {},
          "execution_count": 8
        }
      ]
    },
    {
      "cell_type": "code",
      "source": [
        "f = lambda a,b: a+b\n",
        "r=f(2,3)"
      ],
      "metadata": {
        "id": "j4pY67zvThLQ"
      },
      "execution_count": null,
      "outputs": []
    },
    {
      "cell_type": "code",
      "source": [
        "r"
      ],
      "metadata": {
        "colab": {
          "base_uri": "https://localhost:8080/"
        },
        "id": "homRux_LcVYN",
        "outputId": "f5e2a1fb-dbc5-42f2-9103-556dedcd5b05"
      },
      "execution_count": null,
      "outputs": [
        {
          "output_type": "execute_result",
          "data": {
            "text/plain": [
              "5"
            ]
          },
          "metadata": {},
          "execution_count": 10
        }
      ]
    },
    {
      "cell_type": "code",
      "source": [
        "nums=[2,5,7,6,8,12,13,15,14,16]\n",
        "evens=list(filter(lambda i : i%2 ==0,nums))"
      ],
      "metadata": {
        "id": "BedGSreEcX56"
      },
      "execution_count": null,
      "outputs": []
    },
    {
      "cell_type": "code",
      "source": [
        "evens"
      ],
      "metadata": {
        "colab": {
          "base_uri": "https://localhost:8080/"
        },
        "id": "pcoaB23NcYmC",
        "outputId": "ed2495d0-d99c-45d1-dec4-429ec824320b"
      },
      "execution_count": null,
      "outputs": [
        {
          "output_type": "execute_result",
          "data": {
            "text/plain": [
              "[2, 6, 8, 12, 14, 16]"
            ]
          },
          "metadata": {},
          "execution_count": 19
        }
      ]
    },
    {
      "cell_type": "code",
      "source": [
        "update = list(map(lambda i:i*2,evens))"
      ],
      "metadata": {
        "id": "M4IGmy8tcYrX"
      },
      "execution_count": null,
      "outputs": []
    },
    {
      "cell_type": "code",
      "source": [
        "update"
      ],
      "metadata": {
        "colab": {
          "base_uri": "https://localhost:8080/"
        },
        "id": "jvWHNvNHcYwP",
        "outputId": "bad7b55f-55d5-4cd3-e154-2238eb92935f"
      },
      "execution_count": null,
      "outputs": [
        {
          "output_type": "execute_result",
          "data": {
            "text/plain": [
              "[4, 12, 16, 24, 28, 32]"
            ]
          },
          "metadata": {},
          "execution_count": 21
        }
      ]
    },
    {
      "cell_type": "code",
      "source": [
        "from functools import reduce\n",
        "red = reduce(lambda a,b:a+b,update)"
      ],
      "metadata": {
        "id": "Vxu4IvhCcY1R"
      },
      "execution_count": null,
      "outputs": []
    },
    {
      "cell_type": "code",
      "source": [
        "red"
      ],
      "metadata": {
        "colab": {
          "base_uri": "https://localhost:8080/"
        },
        "id": "-b-JKuDJh7At",
        "outputId": "981e4b01-2f90-4add-ec64-e9f6fdbb5fd3"
      },
      "execution_count": null,
      "outputs": [
        {
          "output_type": "execute_result",
          "data": {
            "text/plain": [
              "116"
            ]
          },
          "metadata": {},
          "execution_count": 32
        }
      ]
    },
    {
      "cell_type": "code",
      "source": [
        "n= ['sun','mon','tue','wed','thu','fri']\n",
        "l=[]\n",
        "for i in n:\n",
        "  print(i)\n",
        "  l.append(i)\n"
      ],
      "metadata": {
        "id": "gROqJWHsh7He",
        "colab": {
          "base_uri": "https://localhost:8080/"
        },
        "outputId": "875f1e0e-b7ef-429f-8e4f-f101da159e8a"
      },
      "execution_count": 4,
      "outputs": [
        {
          "output_type": "stream",
          "name": "stdout",
          "text": [
            "sun\n",
            "mon\n",
            "tue\n",
            "wed\n",
            "thu\n",
            "fri\n"
          ]
        }
      ]
    },
    {
      "cell_type": "code",
      "source": [
        ""
      ],
      "metadata": {
        "id": "TQKnYjo2CtcL"
      },
      "execution_count": null,
      "outputs": []
    },
    {
      "cell_type": "code",
      "source": [
        ""
      ],
      "metadata": {
        "id": "yfmN-xcwh7Ol"
      },
      "execution_count": null,
      "outputs": []
    },
    {
      "cell_type": "code",
      "source": [
        ""
      ],
      "metadata": {
        "id": "1rAEO7kUcY6O"
      },
      "execution_count": null,
      "outputs": []
    },
    {
      "cell_type": "code",
      "source": [
        ""
      ],
      "metadata": {
        "id": "DfhhN67ScY-s"
      },
      "execution_count": null,
      "outputs": []
    },
    {
      "cell_type": "code",
      "source": [
        ""
      ],
      "metadata": {
        "id": "cJvKoaidcZEk"
      },
      "execution_count": null,
      "outputs": []
    }
  ]
}