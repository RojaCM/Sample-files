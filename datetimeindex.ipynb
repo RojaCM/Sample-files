{
  "nbformat": 4,
  "nbformat_minor": 0,
  "metadata": {
    "colab": {
      "name": "Untitled62.ipynb",
      "provenance": [],
      "authorship_tag": "ABX9TyOHkjLT3f2RxKjXVsynnedJ",
      "include_colab_link": true
    },
    "kernelspec": {
      "name": "python3",
      "display_name": "Python 3"
    },
    "language_info": {
      "name": "python"
    }
  },
  "cells": [
    {
      "cell_type": "markdown",
      "metadata": {
        "id": "view-in-github",
        "colab_type": "text"
      },
      "source": [
        "<a href=\"https://colab.research.google.com/github/RojaCM/Sample-files/blob/main/datetimeindex.ipynb\" target=\"_parent\"><img src=\"https://colab.research.google.com/assets/colab-badge.svg\" alt=\"Open In Colab\"/></a>"
      ]
    },
    {
      "cell_type": "code",
      "metadata": {
        "id": "qSNhIdDi1lqX"
      },
      "source": [
        "import pandas as pd\n",
        "import numpy as np\n",
        "import matplotlib.pyplot as plt\n",
        "%matplotlib inline"
      ],
      "execution_count": 3,
      "outputs": []
    },
    {
      "cell_type": "code",
      "metadata": {
        "colab": {
          "resources": {
            "http://localhost:8080/nbextensions/google.colab/files.js": {
              "data": "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",
              "ok": true,
              "headers": [
                [
                  "content-type",
                  "application/javascript"
                ]
              ],
              "status": 200,
              "status_text": ""
            }
          },
          "base_uri": "https://localhost:8080/",
          "height": 73
        },
        "id": "AyhxUJWF14x2",
        "outputId": "acbcab07-2f8a-474e-dafa-e5233756d086"
      },
      "source": [
        "from google.colab import files\n",
        "uploaded = files.upload()"
      ],
      "execution_count": 4,
      "outputs": [
        {
          "output_type": "display_data",
          "data": {
            "text/html": [
              "\n",
              "     <input type=\"file\" id=\"files-80a0671e-5fb6-46d5-a585-bdda67cebb64\" name=\"files[]\" multiple disabled\n",
              "        style=\"border:none\" />\n",
              "     <output id=\"result-80a0671e-5fb6-46d5-a585-bdda67cebb64\">\n",
              "      Upload widget is only available when the cell has been executed in the\n",
              "      current browser session. Please rerun this cell to enable.\n",
              "      </output>\n",
              "      <script src=\"/nbextensions/google.colab/files.js\"></script> "
            ],
            "text/plain": [
              "<IPython.core.display.HTML object>"
            ]
          },
          "metadata": {
            "tags": []
          }
        },
        {
          "output_type": "stream",
          "text": [
            "Saving aapl.csv to aapl.csv\n"
          ],
          "name": "stdout"
        }
      ]
    },
    {
      "cell_type": "code",
      "metadata": {
        "id": "5RStpYaH2X20"
      },
      "source": [
        "df = pd.read_csv('aapl.csv',parse_dates=['Date'],index_col='Date')"
      ],
      "execution_count": 21,
      "outputs": []
    },
    {
      "cell_type": "code",
      "metadata": {
        "colab": {
          "base_uri": "https://localhost:8080/",
          "height": 236
        },
        "id": "oi4rzGUo2mij",
        "outputId": "4613c5bb-dd9f-4e4d-f8eb-3610d32bab79"
      },
      "source": [
        "df.head()"
      ],
      "execution_count": 22,
      "outputs": [
        {
          "output_type": "execute_result",
          "data": {
            "text/html": [
              "<div>\n",
              "<style scoped>\n",
              "    .dataframe tbody tr th:only-of-type {\n",
              "        vertical-align: middle;\n",
              "    }\n",
              "\n",
              "    .dataframe tbody tr th {\n",
              "        vertical-align: top;\n",
              "    }\n",
              "\n",
              "    .dataframe thead th {\n",
              "        text-align: right;\n",
              "    }\n",
              "</style>\n",
              "<table border=\"1\" class=\"dataframe\">\n",
              "  <thead>\n",
              "    <tr style=\"text-align: right;\">\n",
              "      <th></th>\n",
              "      <th>Open</th>\n",
              "      <th>High</th>\n",
              "      <th>Low</th>\n",
              "      <th>Close</th>\n",
              "      <th>Volume</th>\n",
              "    </tr>\n",
              "    <tr>\n",
              "      <th>Date</th>\n",
              "      <th></th>\n",
              "      <th></th>\n",
              "      <th></th>\n",
              "      <th></th>\n",
              "      <th></th>\n",
              "    </tr>\n",
              "  </thead>\n",
              "  <tbody>\n",
              "    <tr>\n",
              "      <th>2017-07-07</th>\n",
              "      <td>142.90</td>\n",
              "      <td>144.75</td>\n",
              "      <td>142.90</td>\n",
              "      <td>144.18</td>\n",
              "      <td>19201712</td>\n",
              "    </tr>\n",
              "    <tr>\n",
              "      <th>2017-07-06</th>\n",
              "      <td>143.02</td>\n",
              "      <td>143.50</td>\n",
              "      <td>142.41</td>\n",
              "      <td>142.73</td>\n",
              "      <td>24128782</td>\n",
              "    </tr>\n",
              "    <tr>\n",
              "      <th>2017-07-05</th>\n",
              "      <td>143.69</td>\n",
              "      <td>144.79</td>\n",
              "      <td>142.72</td>\n",
              "      <td>144.09</td>\n",
              "      <td>21569557</td>\n",
              "    </tr>\n",
              "    <tr>\n",
              "      <th>2017-07-03</th>\n",
              "      <td>144.88</td>\n",
              "      <td>145.30</td>\n",
              "      <td>143.10</td>\n",
              "      <td>143.50</td>\n",
              "      <td>14277848</td>\n",
              "    </tr>\n",
              "    <tr>\n",
              "      <th>2017-06-30</th>\n",
              "      <td>144.45</td>\n",
              "      <td>144.96</td>\n",
              "      <td>143.78</td>\n",
              "      <td>144.02</td>\n",
              "      <td>23024107</td>\n",
              "    </tr>\n",
              "  </tbody>\n",
              "</table>\n",
              "</div>"
            ],
            "text/plain": [
              "              Open    High     Low   Close    Volume\n",
              "Date                                                \n",
              "2017-07-07  142.90  144.75  142.90  144.18  19201712\n",
              "2017-07-06  143.02  143.50  142.41  142.73  24128782\n",
              "2017-07-05  143.69  144.79  142.72  144.09  21569557\n",
              "2017-07-03  144.88  145.30  143.10  143.50  14277848\n",
              "2017-06-30  144.45  144.96  143.78  144.02  23024107"
            ]
          },
          "metadata": {
            "tags": []
          },
          "execution_count": 22
        }
      ]
    },
    {
      "cell_type": "code",
      "metadata": {
        "colab": {
          "base_uri": "https://localhost:8080/"
        },
        "id": "-PJkNiPF2ogP",
        "outputId": "ecea5d05-9fcf-45e8-adb9-ce8336724b29"
      },
      "source": [
        "df.index"
      ],
      "execution_count": 24,
      "outputs": [
        {
          "output_type": "execute_result",
          "data": {
            "text/plain": [
              "DatetimeIndex(['2017-07-07', '2017-07-06', '2017-07-05', '2017-07-03',\n",
              "               '2017-06-30', '2017-06-29', '2017-06-28', '2017-06-27',\n",
              "               '2017-06-26', '2017-06-23',\n",
              "               ...\n",
              "               '2016-07-22', '2016-07-21', '2016-07-20', '2016-07-19',\n",
              "               '2016-07-18', '2016-07-15', '2016-07-14', '2016-07-13',\n",
              "               '2016-07-12', '2016-07-11'],\n",
              "              dtype='datetime64[ns]', name='Date', length=251, freq=None)"
            ]
          },
          "metadata": {
            "tags": []
          },
          "execution_count": 24
        }
      ]
    },
    {
      "cell_type": "code",
      "metadata": {
        "colab": {
          "base_uri": "https://localhost:8080/",
          "height": 112
        },
        "id": "hdUR8dhR27DZ",
        "outputId": "6b3f7b70-3410-4726-b8bb-bb348577ae93"
      },
      "source": [
        "df['2017-07-06']"
      ],
      "execution_count": 25,
      "outputs": [
        {
          "output_type": "execute_result",
          "data": {
            "text/html": [
              "<div>\n",
              "<style scoped>\n",
              "    .dataframe tbody tr th:only-of-type {\n",
              "        vertical-align: middle;\n",
              "    }\n",
              "\n",
              "    .dataframe tbody tr th {\n",
              "        vertical-align: top;\n",
              "    }\n",
              "\n",
              "    .dataframe thead th {\n",
              "        text-align: right;\n",
              "    }\n",
              "</style>\n",
              "<table border=\"1\" class=\"dataframe\">\n",
              "  <thead>\n",
              "    <tr style=\"text-align: right;\">\n",
              "      <th></th>\n",
              "      <th>Open</th>\n",
              "      <th>High</th>\n",
              "      <th>Low</th>\n",
              "      <th>Close</th>\n",
              "      <th>Volume</th>\n",
              "    </tr>\n",
              "    <tr>\n",
              "      <th>Date</th>\n",
              "      <th></th>\n",
              "      <th></th>\n",
              "      <th></th>\n",
              "      <th></th>\n",
              "      <th></th>\n",
              "    </tr>\n",
              "  </thead>\n",
              "  <tbody>\n",
              "    <tr>\n",
              "      <th>2017-07-06</th>\n",
              "      <td>143.02</td>\n",
              "      <td>143.5</td>\n",
              "      <td>142.41</td>\n",
              "      <td>142.73</td>\n",
              "      <td>24128782</td>\n",
              "    </tr>\n",
              "  </tbody>\n",
              "</table>\n",
              "</div>"
            ],
            "text/plain": [
              "              Open   High     Low   Close    Volume\n",
              "Date                                               \n",
              "2017-07-06  143.02  143.5  142.41  142.73  24128782"
            ]
          },
          "metadata": {
            "tags": []
          },
          "execution_count": 25
        }
      ]
    },
    {
      "cell_type": "code",
      "metadata": {
        "colab": {
          "base_uri": "https://localhost:8080/",
          "height": 768
        },
        "id": "Wn1lo6Ur302J",
        "outputId": "313b2d10-1697-467a-9bbe-29ba73d46814"
      },
      "source": [
        "df['2017-05']"
      ],
      "execution_count": 27,
      "outputs": [
        {
          "output_type": "execute_result",
          "data": {
            "text/html": [
              "<div>\n",
              "<style scoped>\n",
              "    .dataframe tbody tr th:only-of-type {\n",
              "        vertical-align: middle;\n",
              "    }\n",
              "\n",
              "    .dataframe tbody tr th {\n",
              "        vertical-align: top;\n",
              "    }\n",
              "\n",
              "    .dataframe thead th {\n",
              "        text-align: right;\n",
              "    }\n",
              "</style>\n",
              "<table border=\"1\" class=\"dataframe\">\n",
              "  <thead>\n",
              "    <tr style=\"text-align: right;\">\n",
              "      <th></th>\n",
              "      <th>Open</th>\n",
              "      <th>High</th>\n",
              "      <th>Low</th>\n",
              "      <th>Close</th>\n",
              "      <th>Volume</th>\n",
              "    </tr>\n",
              "    <tr>\n",
              "      <th>Date</th>\n",
              "      <th></th>\n",
              "      <th></th>\n",
              "      <th></th>\n",
              "      <th></th>\n",
              "      <th></th>\n",
              "    </tr>\n",
              "  </thead>\n",
              "  <tbody>\n",
              "    <tr>\n",
              "      <th>2017-05-31</th>\n",
              "      <td>153.97</td>\n",
              "      <td>154.17</td>\n",
              "      <td>152.38</td>\n",
              "      <td>152.76</td>\n",
              "      <td>24451164</td>\n",
              "    </tr>\n",
              "    <tr>\n",
              "      <th>2017-05-30</th>\n",
              "      <td>153.42</td>\n",
              "      <td>154.43</td>\n",
              "      <td>153.33</td>\n",
              "      <td>153.67</td>\n",
              "      <td>20126851</td>\n",
              "    </tr>\n",
              "    <tr>\n",
              "      <th>2017-05-26</th>\n",
              "      <td>154.00</td>\n",
              "      <td>154.24</td>\n",
              "      <td>153.31</td>\n",
              "      <td>153.61</td>\n",
              "      <td>21927637</td>\n",
              "    </tr>\n",
              "    <tr>\n",
              "      <th>2017-05-25</th>\n",
              "      <td>153.73</td>\n",
              "      <td>154.35</td>\n",
              "      <td>153.03</td>\n",
              "      <td>153.87</td>\n",
              "      <td>19235598</td>\n",
              "    </tr>\n",
              "    <tr>\n",
              "      <th>2017-05-24</th>\n",
              "      <td>153.84</td>\n",
              "      <td>154.17</td>\n",
              "      <td>152.67</td>\n",
              "      <td>153.34</td>\n",
              "      <td>19219154</td>\n",
              "    </tr>\n",
              "    <tr>\n",
              "      <th>2017-05-23</th>\n",
              "      <td>154.90</td>\n",
              "      <td>154.90</td>\n",
              "      <td>153.31</td>\n",
              "      <td>153.80</td>\n",
              "      <td>19918871</td>\n",
              "    </tr>\n",
              "    <tr>\n",
              "      <th>2017-05-22</th>\n",
              "      <td>154.00</td>\n",
              "      <td>154.58</td>\n",
              "      <td>152.91</td>\n",
              "      <td>153.99</td>\n",
              "      <td>22966437</td>\n",
              "    </tr>\n",
              "    <tr>\n",
              "      <th>2017-05-19</th>\n",
              "      <td>153.38</td>\n",
              "      <td>153.98</td>\n",
              "      <td>152.63</td>\n",
              "      <td>153.06</td>\n",
              "      <td>26960788</td>\n",
              "    </tr>\n",
              "    <tr>\n",
              "      <th>2017-05-18</th>\n",
              "      <td>151.27</td>\n",
              "      <td>153.34</td>\n",
              "      <td>151.13</td>\n",
              "      <td>152.54</td>\n",
              "      <td>33568215</td>\n",
              "    </tr>\n",
              "    <tr>\n",
              "      <th>2017-05-17</th>\n",
              "      <td>153.60</td>\n",
              "      <td>154.57</td>\n",
              "      <td>149.71</td>\n",
              "      <td>150.25</td>\n",
              "      <td>50767678</td>\n",
              "    </tr>\n",
              "    <tr>\n",
              "      <th>2017-05-16</th>\n",
              "      <td>155.94</td>\n",
              "      <td>156.06</td>\n",
              "      <td>154.72</td>\n",
              "      <td>155.47</td>\n",
              "      <td>20048478</td>\n",
              "    </tr>\n",
              "    <tr>\n",
              "      <th>2017-05-15</th>\n",
              "      <td>156.01</td>\n",
              "      <td>156.65</td>\n",
              "      <td>155.05</td>\n",
              "      <td>155.70</td>\n",
              "      <td>26009719</td>\n",
              "    </tr>\n",
              "    <tr>\n",
              "      <th>2017-05-12</th>\n",
              "      <td>154.70</td>\n",
              "      <td>156.42</td>\n",
              "      <td>154.67</td>\n",
              "      <td>156.10</td>\n",
              "      <td>32527017</td>\n",
              "    </tr>\n",
              "    <tr>\n",
              "      <th>2017-05-11</th>\n",
              "      <td>152.45</td>\n",
              "      <td>154.07</td>\n",
              "      <td>152.31</td>\n",
              "      <td>153.95</td>\n",
              "      <td>27255058</td>\n",
              "    </tr>\n",
              "    <tr>\n",
              "      <th>2017-05-10</th>\n",
              "      <td>153.63</td>\n",
              "      <td>153.94</td>\n",
              "      <td>152.11</td>\n",
              "      <td>153.26</td>\n",
              "      <td>25805692</td>\n",
              "    </tr>\n",
              "    <tr>\n",
              "      <th>2017-05-09</th>\n",
              "      <td>153.87</td>\n",
              "      <td>154.88</td>\n",
              "      <td>153.45</td>\n",
              "      <td>153.99</td>\n",
              "      <td>39130363</td>\n",
              "    </tr>\n",
              "    <tr>\n",
              "      <th>2017-05-08</th>\n",
              "      <td>149.03</td>\n",
              "      <td>153.70</td>\n",
              "      <td>149.03</td>\n",
              "      <td>153.01</td>\n",
              "      <td>48752413</td>\n",
              "    </tr>\n",
              "    <tr>\n",
              "      <th>2017-05-05</th>\n",
              "      <td>146.76</td>\n",
              "      <td>148.98</td>\n",
              "      <td>146.76</td>\n",
              "      <td>148.96</td>\n",
              "      <td>27327725</td>\n",
              "    </tr>\n",
              "    <tr>\n",
              "      <th>2017-05-04</th>\n",
              "      <td>146.52</td>\n",
              "      <td>147.14</td>\n",
              "      <td>145.81</td>\n",
              "      <td>146.53</td>\n",
              "      <td>23371872</td>\n",
              "    </tr>\n",
              "    <tr>\n",
              "      <th>2017-05-03</th>\n",
              "      <td>145.59</td>\n",
              "      <td>147.49</td>\n",
              "      <td>144.27</td>\n",
              "      <td>147.06</td>\n",
              "      <td>45697034</td>\n",
              "    </tr>\n",
              "    <tr>\n",
              "      <th>2017-05-02</th>\n",
              "      <td>147.54</td>\n",
              "      <td>148.09</td>\n",
              "      <td>146.84</td>\n",
              "      <td>147.51</td>\n",
              "      <td>45352194</td>\n",
              "    </tr>\n",
              "    <tr>\n",
              "      <th>2017-05-01</th>\n",
              "      <td>145.10</td>\n",
              "      <td>147.20</td>\n",
              "      <td>144.96</td>\n",
              "      <td>146.58</td>\n",
              "      <td>33602943</td>\n",
              "    </tr>\n",
              "  </tbody>\n",
              "</table>\n",
              "</div>"
            ],
            "text/plain": [
              "              Open    High     Low   Close    Volume\n",
              "Date                                                \n",
              "2017-05-31  153.97  154.17  152.38  152.76  24451164\n",
              "2017-05-30  153.42  154.43  153.33  153.67  20126851\n",
              "2017-05-26  154.00  154.24  153.31  153.61  21927637\n",
              "2017-05-25  153.73  154.35  153.03  153.87  19235598\n",
              "2017-05-24  153.84  154.17  152.67  153.34  19219154\n",
              "2017-05-23  154.90  154.90  153.31  153.80  19918871\n",
              "2017-05-22  154.00  154.58  152.91  153.99  22966437\n",
              "2017-05-19  153.38  153.98  152.63  153.06  26960788\n",
              "2017-05-18  151.27  153.34  151.13  152.54  33568215\n",
              "2017-05-17  153.60  154.57  149.71  150.25  50767678\n",
              "2017-05-16  155.94  156.06  154.72  155.47  20048478\n",
              "2017-05-15  156.01  156.65  155.05  155.70  26009719\n",
              "2017-05-12  154.70  156.42  154.67  156.10  32527017\n",
              "2017-05-11  152.45  154.07  152.31  153.95  27255058\n",
              "2017-05-10  153.63  153.94  152.11  153.26  25805692\n",
              "2017-05-09  153.87  154.88  153.45  153.99  39130363\n",
              "2017-05-08  149.03  153.70  149.03  153.01  48752413\n",
              "2017-05-05  146.76  148.98  146.76  148.96  27327725\n",
              "2017-05-04  146.52  147.14  145.81  146.53  23371872\n",
              "2017-05-03  145.59  147.49  144.27  147.06  45697034\n",
              "2017-05-02  147.54  148.09  146.84  147.51  45352194\n",
              "2017-05-01  145.10  147.20  144.96  146.58  33602943"
            ]
          },
          "metadata": {
            "tags": []
          },
          "execution_count": 27
        }
      ]
    },
    {
      "cell_type": "code",
      "metadata": {
        "colab": {
          "base_uri": "https://localhost:8080/"
        },
        "id": "LHi-tsmH2veI",
        "outputId": "c4f0584f-d655-4cf6-ab5d-df2641d81f36"
      },
      "source": [
        "df['2017-05'].Close.mean()"
      ],
      "execution_count": 31,
      "outputs": [
        {
          "output_type": "execute_result",
          "data": {
            "text/plain": [
              "152.2277272727273"
            ]
          },
          "metadata": {
            "tags": []
          },
          "execution_count": 31
        }
      ]
    },
    {
      "cell_type": "code",
      "metadata": {
        "colab": {
          "base_uri": "https://localhost:8080/",
          "height": 331
        },
        "id": "99fIet1F5Ns-",
        "outputId": "e2b64c93-993e-4df1-ff94-f284c6adbbfa"
      },
      "source": [
        "df['2017-05-10':'2017-05-01']"
      ],
      "execution_count": 33,
      "outputs": [
        {
          "output_type": "execute_result",
          "data": {
            "text/html": [
              "<div>\n",
              "<style scoped>\n",
              "    .dataframe tbody tr th:only-of-type {\n",
              "        vertical-align: middle;\n",
              "    }\n",
              "\n",
              "    .dataframe tbody tr th {\n",
              "        vertical-align: top;\n",
              "    }\n",
              "\n",
              "    .dataframe thead th {\n",
              "        text-align: right;\n",
              "    }\n",
              "</style>\n",
              "<table border=\"1\" class=\"dataframe\">\n",
              "  <thead>\n",
              "    <tr style=\"text-align: right;\">\n",
              "      <th></th>\n",
              "      <th>Open</th>\n",
              "      <th>High</th>\n",
              "      <th>Low</th>\n",
              "      <th>Close</th>\n",
              "      <th>Volume</th>\n",
              "    </tr>\n",
              "    <tr>\n",
              "      <th>Date</th>\n",
              "      <th></th>\n",
              "      <th></th>\n",
              "      <th></th>\n",
              "      <th></th>\n",
              "      <th></th>\n",
              "    </tr>\n",
              "  </thead>\n",
              "  <tbody>\n",
              "    <tr>\n",
              "      <th>2017-05-10</th>\n",
              "      <td>153.63</td>\n",
              "      <td>153.94</td>\n",
              "      <td>152.11</td>\n",
              "      <td>153.26</td>\n",
              "      <td>25805692</td>\n",
              "    </tr>\n",
              "    <tr>\n",
              "      <th>2017-05-09</th>\n",
              "      <td>153.87</td>\n",
              "      <td>154.88</td>\n",
              "      <td>153.45</td>\n",
              "      <td>153.99</td>\n",
              "      <td>39130363</td>\n",
              "    </tr>\n",
              "    <tr>\n",
              "      <th>2017-05-08</th>\n",
              "      <td>149.03</td>\n",
              "      <td>153.70</td>\n",
              "      <td>149.03</td>\n",
              "      <td>153.01</td>\n",
              "      <td>48752413</td>\n",
              "    </tr>\n",
              "    <tr>\n",
              "      <th>2017-05-05</th>\n",
              "      <td>146.76</td>\n",
              "      <td>148.98</td>\n",
              "      <td>146.76</td>\n",
              "      <td>148.96</td>\n",
              "      <td>27327725</td>\n",
              "    </tr>\n",
              "    <tr>\n",
              "      <th>2017-05-04</th>\n",
              "      <td>146.52</td>\n",
              "      <td>147.14</td>\n",
              "      <td>145.81</td>\n",
              "      <td>146.53</td>\n",
              "      <td>23371872</td>\n",
              "    </tr>\n",
              "    <tr>\n",
              "      <th>2017-05-03</th>\n",
              "      <td>145.59</td>\n",
              "      <td>147.49</td>\n",
              "      <td>144.27</td>\n",
              "      <td>147.06</td>\n",
              "      <td>45697034</td>\n",
              "    </tr>\n",
              "    <tr>\n",
              "      <th>2017-05-02</th>\n",
              "      <td>147.54</td>\n",
              "      <td>148.09</td>\n",
              "      <td>146.84</td>\n",
              "      <td>147.51</td>\n",
              "      <td>45352194</td>\n",
              "    </tr>\n",
              "    <tr>\n",
              "      <th>2017-05-01</th>\n",
              "      <td>145.10</td>\n",
              "      <td>147.20</td>\n",
              "      <td>144.96</td>\n",
              "      <td>146.58</td>\n",
              "      <td>33602943</td>\n",
              "    </tr>\n",
              "  </tbody>\n",
              "</table>\n",
              "</div>"
            ],
            "text/plain": [
              "              Open    High     Low   Close    Volume\n",
              "Date                                                \n",
              "2017-05-10  153.63  153.94  152.11  153.26  25805692\n",
              "2017-05-09  153.87  154.88  153.45  153.99  39130363\n",
              "2017-05-08  149.03  153.70  149.03  153.01  48752413\n",
              "2017-05-05  146.76  148.98  146.76  148.96  27327725\n",
              "2017-05-04  146.52  147.14  145.81  146.53  23371872\n",
              "2017-05-03  145.59  147.49  144.27  147.06  45697034\n",
              "2017-05-02  147.54  148.09  146.84  147.51  45352194\n",
              "2017-05-01  145.10  147.20  144.96  146.58  33602943"
            ]
          },
          "metadata": {
            "tags": []
          },
          "execution_count": 33
        }
      ]
    },
    {
      "cell_type": "code",
      "metadata": {
        "colab": {
          "base_uri": "https://localhost:8080/"
        },
        "id": "_U4soqhM580W",
        "outputId": "3b35ac6c-3c5d-44dc-ed1b-758f3a9c645d"
      },
      "source": [
        "df['Close'].resample('M').mean()"
      ],
      "execution_count": 38,
      "outputs": [
        {
          "output_type": "execute_result",
          "data": {
            "text/plain": [
              "Date\n",
              "2016-07-31     99.473333\n",
              "2016-08-31    107.665217\n",
              "2016-09-30    110.857143\n",
              "2016-10-31    115.707143\n",
              "2016-11-30    110.154286\n",
              "2016-12-31    114.335714\n",
              "2017-01-31    119.570000\n",
              "2017-02-28    133.713684\n",
              "2017-03-31    140.617826\n",
              "2017-04-30    142.886842\n",
              "2017-05-31    152.227727\n",
              "2017-06-30    147.831364\n",
              "2017-07-31    143.625000\n",
              "Freq: M, Name: Close, dtype: float64"
            ]
          },
          "metadata": {
            "tags": []
          },
          "execution_count": 38
        }
      ]
    },
    {
      "cell_type": "code",
      "metadata": {
        "colab": {
          "base_uri": "https://localhost:8080/",
          "height": 295
        },
        "id": "mAtzn24b5931",
        "outputId": "e82e2469-0174-4e8c-89e3-495e676a68f7"
      },
      "source": [
        "df['Close'].plot()"
      ],
      "execution_count": 39,
      "outputs": [
        {
          "output_type": "execute_result",
          "data": {
            "text/plain": [
              "<matplotlib.axes._subplots.AxesSubplot at 0x7faf32e37550>"
            ]
          },
          "metadata": {
            "tags": []
          },
          "execution_count": 39
        },
        {
          "output_type": "display_data",
          "data": {
            "image/png": "[encoded data removed]",
            "text/plain": [
              "<Figure size 432x288 with 1 Axes>"
            ]
          },
          "metadata": {
            "tags": [],
            "needs_background": "light"
          }
        }
      ]
    },
    {
      "cell_type": "code",
      "metadata": {
        "colab": {
          "base_uri": "https://localhost:8080/",
          "height": 309
        },
        "id": "GP1BK0Jt7Fae",
        "outputId": "01a083cc-00d7-4486-970f-c049f8d65ab2"
      },
      "source": [
        "df['Close'].resample('M').mean().plot()"
      ],
      "execution_count": 41,
      "outputs": [
        {
          "output_type": "execute_result",
          "data": {
            "text/plain": [
              "<matplotlib.axes._subplots.AxesSubplot at 0x7faf32d82a10>"
            ]
          },
          "metadata": {
            "tags": []
          },
          "execution_count": 41
        },
        {
          "output_type": "display_data",
          "data": {
            "image/png": "[encoded data removed]",
            "text/plain": [
              "<Figure size 432x288 with 1 Axes>"
            ]
          },
          "metadata": {
            "tags": [],
            "needs_background": "light"
          }
        }
      ]
    },
    {
      "cell_type": "code",
      "metadata": {
        "colab": {
          "base_uri": "https://localhost:8080/",
          "height": 392
        },
        "id": "nne-_Yb47FoZ",
        "outputId": "09758bc0-143b-40d0-a40d-8316b76aa1f7"
      },
      "source": [
        "df['Close'].resample('M').mean().plot(kind='bar')"
      ],
      "execution_count": 42,
      "outputs": [
        {
          "output_type": "execute_result",
          "data": {
            "text/plain": [
              "<matplotlib.axes._subplots.AxesSubplot at 0x7faf3282bcd0>"
            ]
          },
          "metadata": {
            "tags": []
          },
          "execution_count": 42
        },
        {
          "output_type": "display_data",
          "data": {
            "image/png": "[encoded data removed]",
            "text/plain": [
              "<Figure size 432x288 with 1 Axes>"
            ]
          },
          "metadata": {
            "tags": [],
            "needs_background": "light"
          }
        }
      ]
    },
    {
      "cell_type": "code",
      "metadata": {
        "id": "ZQ4SZpCV7F3d"
      },
      "source": [
        ""
      ],
      "execution_count": null,
      "outputs": []
    }
  ]
}