{
  "nbformat": 4,
  "nbformat_minor": 0,
  "metadata": {
    "colab": {
      "name": "Untitled92.ipynb",
      "provenance": [],
      "authorship_tag": "ABX9TyOxOG+9BmzKhpL3zZvA6/g5",
      "include_colab_link": true
    },
    "kernelspec": {
      "name": "python3",
      "display_name": "Python 3"
    },
    "language_info": {
      "name": "python"
    }
  },
  "cells": [
    {
      "cell_type": "markdown",
      "metadata": {
        "id": "view-in-github",
        "colab_type": "text"
      },
      "source": [
        "<a href=\"https://colab.research.google.com/github/RojaCM/Sample-files/blob/main/Dictionary%20Basics%20methods.ipynb\" target=\"_parent\"><img src=\"https://colab.research.google.com/assets/colab-badge.svg\" alt=\"Open In Colab\"/></a>"
      ]
    },
    {
      "cell_type": "code",
      "metadata": {
        "colab": {
          "base_uri": "https://localhost:8080/"
        },
        "id": "xwKESNMXNC4f",
        "outputId": "a6480865-c01f-46f4-b2e7-9701dc729e9e"
      },
      "source": [
        "dict.fromkeys([1,2,3,4])"
      ],
      "execution_count": 1,
      "outputs": [
        {
          "output_type": "execute_result",
          "data": {
            "text/plain": [
              "{1: None, 2: None, 3: None, 4: None}"
            ]
          },
          "metadata": {},
          "execution_count": 1
        }
      ]
    },
    {
      "cell_type": "code",
      "metadata": {
        "colab": {
          "base_uri": "https://localhost:8080/"
        },
        "id": "3Nl70AhtNRSL",
        "outputId": "de6a931d-145c-4959-f2c1-8ec5852b3423"
      },
      "source": [
        "{}.fromkeys(range(1,7),10)"
      ],
      "execution_count": 2,
      "outputs": [
        {
          "output_type": "execute_result",
          "data": {
            "text/plain": [
              "{1: 10, 2: 10, 3: 10, 4: 10, 5: 10, 6: 10}"
            ]
          },
          "metadata": {},
          "execution_count": 2
        }
      ]
    },
    {
      "cell_type": "markdown",
      "metadata": {
        "id": "D0fcTLHwNbtb"
      },
      "source": [
        "SETDEFAULT - IN DICTIONARY IT WILL SERACH FOR THE KEY IF THE KEY FOUND IN DICTIONARY,IT WILL RETURN THE CORRESPONDING DEFAULT VALUE,IF KEY NOT FOUND IT WILL ADD THE KEY TO THE DICTIONARY\n",
        "\n",
        "DICT.SETDEFAULT(KEY,VALUE)"
      ]
    },
    {
      "cell_type": "code",
      "metadata": {
        "id": "nr0-dH86QO3K"
      },
      "source": [
        "d1 = {'a':10,'b':20,'c':30,'d':40}"
      ],
      "execution_count": 5,
      "outputs": []
    },
    {
      "cell_type": "code",
      "metadata": {
        "colab": {
          "base_uri": "https://localhost:8080/"
        },
        "id": "pGD-JPCRQjYs",
        "outputId": "ef15b0c3-44f6-4b09-ceeb-3b96bf07e862"
      },
      "source": [
        "d1.setdefault('a')"
      ],
      "execution_count": 6,
      "outputs": [
        {
          "output_type": "execute_result",
          "data": {
            "text/plain": [
              "10"
            ]
          },
          "metadata": {},
          "execution_count": 6
        }
      ]
    },
    {
      "cell_type": "code",
      "metadata": {
        "id": "FoqZqOerQpnZ"
      },
      "source": [
        "d1.setdefault('e')"
      ],
      "execution_count": 7,
      "outputs": []
    },
    {
      "cell_type": "code",
      "metadata": {
        "colab": {
          "base_uri": "https://localhost:8080/"
        },
        "id": "1l8PBEpyQr9L",
        "outputId": "f484a1bc-fbf5-4665-ad4a-d19ddd509f4e"
      },
      "source": [
        "d1"
      ],
      "execution_count": 8,
      "outputs": [
        {
          "output_type": "execute_result",
          "data": {
            "text/plain": [
              "{'a': 10, 'b': 20, 'c': 30, 'd': 40, 'e': None}"
            ]
          },
          "metadata": {},
          "execution_count": 8
        }
      ]
    },
    {
      "cell_type": "markdown",
      "metadata": {
        "id": "-_EyXLLHQsei"
      },
      "source": [
        "UPDATE METHOD - USED TO CONCATENATE 2 DICTIONARIES"
      ]
    },
    {
      "cell_type": "code",
      "metadata": {
        "id": "HAdIQYL8QtFF"
      },
      "source": [
        "d1 =dict.fromkeys(range(1,5),10)"
      ],
      "execution_count": 11,
      "outputs": []
    },
    {
      "cell_type": "code",
      "metadata": {
        "colab": {
          "base_uri": "https://localhost:8080/"
        },
        "id": "HvRoZJTGQtLE",
        "outputId": "b56eb8ed-a661-4d43-e6f9-affd63b0e8f0"
      },
      "source": [
        "d1"
      ],
      "execution_count": 12,
      "outputs": [
        {
          "output_type": "execute_result",
          "data": {
            "text/plain": [
              "{1: 10, 2: 10, 3: 10, 4: 10}"
            ]
          },
          "metadata": {},
          "execution_count": 12
        }
      ]
    },
    {
      "cell_type": "code",
      "metadata": {
        "id": "6Ce5Aw4STiD8"
      },
      "source": [
        "d2 = dict.fromkeys(range(5,10),20)"
      ],
      "execution_count": 14,
      "outputs": []
    },
    {
      "cell_type": "code",
      "metadata": {
        "colab": {
          "base_uri": "https://localhost:8080/"
        },
        "id": "XeAbe16JTxNn",
        "outputId": "d8639361-293f-4197-c028-fad7ac3f38de"
      },
      "source": [
        "d2"
      ],
      "execution_count": 15,
      "outputs": [
        {
          "output_type": "execute_result",
          "data": {
            "text/plain": [
              "{5: 20, 6: 20, 7: 20, 8: 20, 9: 20}"
            ]
          },
          "metadata": {},
          "execution_count": 15
        }
      ]
    },
    {
      "cell_type": "code",
      "metadata": {
        "id": "gfUGlPyLTxTE"
      },
      "source": [
        "d1.update(d2)"
      ],
      "execution_count": 16,
      "outputs": []
    },
    {
      "cell_type": "code",
      "metadata": {
        "colab": {
          "base_uri": "https://localhost:8080/"
        },
        "id": "wgmT7wJDT7c-",
        "outputId": "b9d1521c-8dc1-48b0-c679-cbe3b0889764"
      },
      "source": [
        "d1"
      ],
      "execution_count": 17,
      "outputs": [
        {
          "output_type": "execute_result",
          "data": {
            "text/plain": [
              "{1: 10, 2: 10, 3: 10, 4: 10, 5: 20, 6: 20, 7: 20, 8: 20, 9: 20}"
            ]
          },
          "metadata": {},
          "execution_count": 17
        }
      ]
    },
    {
      "cell_type": "markdown",
      "metadata": {
        "id": "ual2elmET7kC"
      },
      "source": [
        "by using list we can update the dictionary"
      ]
    },
    {
      "cell_type": "code",
      "metadata": {
        "id": "iZ3ys0d3T7pt"
      },
      "source": [
        "l1=[10,30]\n",
        "d1.update([l1])"
      ],
      "execution_count": 20,
      "outputs": []
    },
    {
      "cell_type": "code",
      "metadata": {
        "colab": {
          "base_uri": "https://localhost:8080/"
        },
        "id": "Xn5F7bEqVpfz",
        "outputId": "30da86ab-7783-4fd1-f0b6-bb95da178e09"
      },
      "source": [
        "d1"
      ],
      "execution_count": 22,
      "outputs": [
        {
          "output_type": "execute_result",
          "data": {
            "text/plain": [
              "{1: 10, 2: 10, 3: 10, 4: 10, 5: 20, 6: 20, 7: 20, 8: 20, 9: 20, 10: 30}"
            ]
          },
          "metadata": {},
          "execution_count": 22
        }
      ]
    },
    {
      "cell_type": "markdown",
      "metadata": {
        "id": "-jSbb77iVp0Q"
      },
      "source": [
        "by using expression we can update the dictionary"
      ]
    },
    {
      "cell_type": "code",
      "metadata": {
        "id": "U7SQZZOwV8OS"
      },
      "source": [
        "d1.update(x=3,y=4,z=6)"
      ],
      "execution_count": 23,
      "outputs": []
    },
    {
      "cell_type": "code",
      "metadata": {
        "colab": {
          "base_uri": "https://localhost:8080/"
        },
        "id": "iCxsRJzDV8T3",
        "outputId": "dc35c9bf-4c77-487c-afb8-ce28f6c9fc66"
      },
      "source": [
        "d1"
      ],
      "execution_count": 24,
      "outputs": [
        {
          "output_type": "execute_result",
          "data": {
            "text/plain": [
              "{1: 10,\n",
              " 10: 30,\n",
              " 2: 10,\n",
              " 3: 10,\n",
              " 4: 10,\n",
              " 5: 20,\n",
              " 6: 20,\n",
              " 7: 20,\n",
              " 8: 20,\n",
              " 9: 20,\n",
              " 'x': 3,\n",
              " 'y': 4,\n",
              " 'z': 6}"
            ]
          },
          "metadata": {},
          "execution_count": 24
        }
      ]
    },
    {
      "cell_type": "code",
      "metadata": {
        "id": "bT7vxUo-WMwK"
      },
      "source": [
        "d3 = {'c':40}"
      ],
      "execution_count": 25,
      "outputs": []
    },
    {
      "cell_type": "code",
      "metadata": {
        "id": "aHZcGAHkWM1h"
      },
      "source": [
        "d4={'c':50,'d':60}"
      ],
      "execution_count": 26,
      "outputs": []
    },
    {
      "cell_type": "code",
      "metadata": {
        "id": "vxQzd6XFWM5h"
      },
      "source": [
        "d3.update(d4)"
      ],
      "execution_count": 27,
      "outputs": []
    },
    {
      "cell_type": "code",
      "metadata": {
        "colab": {
          "base_uri": "https://localhost:8080/"
        },
        "id": "5nQG1d2sWM-j",
        "outputId": "2471995b-3d6b-4fc4-83e3-902c00c4676c"
      },
      "source": [
        "d3"
      ],
      "execution_count": 28,
      "outputs": [
        {
          "output_type": "execute_result",
          "data": {
            "text/plain": [
              "{'c': 50, 'd': 60}"
            ]
          },
          "metadata": {},
          "execution_count": 28
        }
      ]
    },
    {
      "cell_type": "code",
      "metadata": {
        "id": "ZuGJ4-ZfWNC-"
      },
      "source": [
        "d4.update(d3)"
      ],
      "execution_count": 29,
      "outputs": []
    },
    {
      "cell_type": "code",
      "metadata": {
        "colab": {
          "base_uri": "https://localhost:8080/"
        },
        "id": "XF8FzksyV8Ye",
        "outputId": "a2af7a12-2a04-4e67-f481-7a009f77954e"
      },
      "source": [
        "d4"
      ],
      "execution_count": 30,
      "outputs": [
        {
          "output_type": "execute_result",
          "data": {
            "text/plain": [
              "{'c': 50, 'd': 60}"
            ]
          },
          "metadata": {},
          "execution_count": 30
        }
      ]
    },
    {
      "cell_type": "markdown",
      "metadata": {
        "id": "6zAzoQMsWGva"
      },
      "source": [
        "delete ,pop ,clear method "
      ]
    },
    {
      "cell_type": "code",
      "metadata": {
        "id": "6hfmasN3WG1e"
      },
      "source": [
        "m1 = {1:'a',2:'b',3:'c'}"
      ],
      "execution_count": 31,
      "outputs": []
    },
    {
      "cell_type": "code",
      "metadata": {
        "id": "Vg4IoeUfVp5-"
      },
      "source": [
        "del m1[1]"
      ],
      "execution_count": 33,
      "outputs": []
    },
    {
      "cell_type": "code",
      "metadata": {
        "colab": {
          "base_uri": "https://localhost:8080/"
        },
        "id": "7ro0ak1HT7vZ",
        "outputId": "e17eb12a-7d58-4a54-a63a-25e1dc8d34cc"
      },
      "source": [
        "m1"
      ],
      "execution_count": 34,
      "outputs": [
        {
          "output_type": "execute_result",
          "data": {
            "text/plain": [
              "{2: 'b', 3: 'c'}"
            ]
          },
          "metadata": {},
          "execution_count": 34
        }
      ]
    },
    {
      "cell_type": "code",
      "metadata": {
        "colab": {
          "base_uri": "https://localhost:8080/",
          "height": 35
        },
        "id": "Bz5y78fVZZfi",
        "outputId": "c84c79d6-b404-4974-d342-df1667170b3a"
      },
      "source": [
        "m1.pop(2)"
      ],
      "execution_count": 35,
      "outputs": [
        {
          "output_type": "execute_result",
          "data": {
            "application/vnd.google.colaboratory.intrinsic+json": {
              "type": "string"
            },
            "text/plain": [
              "'b'"
            ]
          },
          "metadata": {},
          "execution_count": 35
        }
      ]
    },
    {
      "cell_type": "code",
      "metadata": {
        "colab": {
          "base_uri": "https://localhost:8080/"
        },
        "id": "EobmkUSlZb-v",
        "outputId": "855d82a5-f09f-4820-9f18-eadd229c1236"
      },
      "source": [
        "m1"
      ],
      "execution_count": 36,
      "outputs": [
        {
          "output_type": "execute_result",
          "data": {
            "text/plain": [
              "{3: 'c'}"
            ]
          },
          "metadata": {},
          "execution_count": 36
        }
      ]
    },
    {
      "cell_type": "code",
      "metadata": {
        "id": "07Gjawz8ZcwJ"
      },
      "source": [
        "m1.clear()"
      ],
      "execution_count": 37,
      "outputs": []
    },
    {
      "cell_type": "code",
      "metadata": {
        "colab": {
          "base_uri": "https://localhost:8080/"
        },
        "id": "rtotcz2uZe7n",
        "outputId": "78abc47a-d1bd-48b4-9c47-649ad0c6fdf6"
      },
      "source": [
        "m1"
      ],
      "execution_count": 38,
      "outputs": [
        {
          "output_type": "execute_result",
          "data": {
            "text/plain": [
              "{}"
            ]
          },
          "metadata": {},
          "execution_count": 38
        }
      ]
    },
    {
      "cell_type": "code",
      "metadata": {
        "id": "auiLDOGjZf3u"
      },
      "source": [
        "del m1"
      ],
      "execution_count": 39,
      "outputs": []
    },
    {
      "cell_type": "code",
      "metadata": {
        "colab": {
          "base_uri": "https://localhost:8080/",
          "height": 163
        },
        "id": "LcdnZAUkZmBj",
        "outputId": "32177c32-c81f-4292-a5b9-252fbe338c3c"
      },
      "source": [
        "m1"
      ],
      "execution_count": 40,
      "outputs": [
        {
          "output_type": "error",
          "ename": "NameError",
          "evalue": "ignored",
          "traceback": [
            "\u001b[0;31m---------------------------------------------------------------------------\u001b[0m",
            "\u001b[0;31mNameError\u001b[0m                                 Traceback (most recent call last)",
            "\u001b[0;32m<ipython-input-40-7b4f1e4c8b97>\u001b[0m in \u001b[0;36m<module>\u001b[0;34m()\u001b[0m\n\u001b[0;32m----> 1\u001b[0;31m \u001b[0mm1\u001b[0m\u001b[0;34m\u001b[0m\u001b[0;34m\u001b[0m\u001b[0m\n\u001b[0m",
            "\u001b[0;31mNameError\u001b[0m: name 'm1' is not defined"
          ]
        }
      ]
    },
    {
      "cell_type": "code",
      "metadata": {
        "id": "o138zzG1ZmmE"
      },
      "source": [
        ""
      ],
      "execution_count": null,
      "outputs": []
    }
  ]
}