{
  "nbformat": 4,
  "nbformat_minor": 0,
  "metadata": {
    "colab": {
      "name": "decorators.ipynb",
      "provenance": [],
      "collapsed_sections": [],
      "authorship_tag": "ABX9TyOwzq/guuO075O7Q8Hy/k3O",
      "include_colab_link": true
    },
    "kernelspec": {
      "name": "python3",
      "display_name": "Python 3"
    },
    "language_info": {
      "name": "python"
    }
  },
  "cells": [
    {
      "cell_type": "markdown",
      "metadata": {
        "id": "view-in-github",
        "colab_type": "text"
      },
      "source": [
        "<a href=\"https://colab.research.google.com/github/RojaCM/Sample-files/blob/main/decorators.ipynb\" target=\"_parent\"><img src=\"https://colab.research.google.com/assets/colab-badge.svg\" alt=\"Open In Colab\"/></a>"
      ]
    },
    {
      "cell_type": "markdown",
      "source": [
        "DECORATORS"
      ],
      "metadata": {
        "id": "jYB2LQ59LPmH"
      }
    },
    {
      "cell_type": "code",
      "source": [
        "#functions are objects in python\n",
        "def hello():\n",
        "  print('hello!!')\n"
      ],
      "metadata": {
        "id": "XPG7KsZpLVqj"
      },
      "execution_count": null,
      "outputs": []
    },
    {
      "cell_type": "code",
      "source": [
        "hello()"
      ],
      "metadata": {
        "colab": {
          "base_uri": "https://localhost:8080/"
        },
        "id": "X3XY-SsrLVsy",
        "outputId": "f4119656-0f3d-4228-e2fe-156354e642f7"
      },
      "execution_count": null,
      "outputs": [
        {
          "output_type": "stream",
          "name": "stdout",
          "text": [
            "hello!!\n"
          ]
        }
      ]
    },
    {
      "cell_type": "code",
      "source": [
        "hello"
      ],
      "metadata": {
        "colab": {
          "base_uri": "https://localhost:8080/"
        },
        "id": "96YwE713LVu2",
        "outputId": "5d3b8e52-bc5e-4c93-c4f6-a6c39b3e1cb5"
      },
      "execution_count": null,
      "outputs": [
        {
          "output_type": "execute_result",
          "data": {
            "text/plain": [
              "<function __main__.hello>"
            ]
          },
          "metadata": {},
          "execution_count": 3
        }
      ]
    },
    {
      "cell_type": "code",
      "source": [
        "greet=hello"
      ],
      "metadata": {
        "id": "oi7zthCWLVw_"
      },
      "execution_count": null,
      "outputs": []
    },
    {
      "cell_type": "code",
      "source": [
        "greet()"
      ],
      "metadata": {
        "colab": {
          "base_uri": "https://localhost:8080/"
        },
        "id": "i2fXB9bCLVzX",
        "outputId": "302c3373-069a-4042-9ea8-b50f519ee326"
      },
      "execution_count": null,
      "outputs": [
        {
          "output_type": "stream",
          "name": "stdout",
          "text": [
            "hello!!\n"
          ]
        }
      ]
    },
    {
      "cell_type": "code",
      "source": [
        "#assign a function to the variables and call them\n",
        "\n",
        "def site():\n",
        "    print(\"PythonGeeks\")\n",
        "website = site \n",
        "print(f\"{site}\")\n",
        "print(f\"{website}\")\n",
        "site()\n",
        "website()"
      ],
      "metadata": {
        "colab": {
          "base_uri": "https://localhost:8080/"
        },
        "id": "_jueLEnYLV2D",
        "outputId": "5767a626-75c0-401b-9ab3-33280ed0c541"
      },
      "execution_count": null,
      "outputs": [
        {
          "output_type": "stream",
          "name": "stdout",
          "text": [
            "<function site at 0x7f106a82fa70>\n",
            "<function site at 0x7f106a82fa70>\n",
            "PythonGeeks\n",
            "PythonGeeks\n"
          ]
        }
      ]
    },
    {
      "cell_type": "code",
      "source": [
        "#defining new fuction inside the another function\n",
        "def cool():\n",
        "    print('i am cool')\n",
        "\n",
        "    def super_cool():\n",
        "      print('i am super cool fuction insider the cool function')\n",
        "  \n",
        "    def very_cool():\n",
        "      print(' i am very cool inside the cool function')\n",
        "    \n",
        "    super_cool()\n",
        "    very_cool()\n",
        "\n",
        "    print('this is the end of the hello function')"
      ],
      "metadata": {
        "id": "dyYevh1uTTjp"
      },
      "execution_count": null,
      "outputs": []
    },
    {
      "cell_type": "code",
      "source": [
        "cool()"
      ],
      "metadata": {
        "colab": {
          "base_uri": "https://localhost:8080/"
        },
        "id": "s_Sq_H70YQSK",
        "outputId": "228f5df4-5e11-4b86-9628-bb43232a9efc"
      },
      "execution_count": null,
      "outputs": [
        {
          "output_type": "stream",
          "name": "stdout",
          "text": [
            "i am cool\n",
            "i am super cool fuction insider the cool function\n",
            " i am very cool inside the cool function\n",
            "this is the end of the hello function\n"
          ]
        }
      ]
    },
    {
      "cell_type": "code",
      "source": [
        "def cool(name='roja'):\n",
        "    print('i am cool')\n",
        "\n",
        "    def super_cool():\n",
        "      print('i am super cool fuction insider the cool function')\n",
        "  \n",
        "    def very_cool():\n",
        "      print(' i am very cool inside the cool function')\n",
        "    \n",
        "    print(' i am going to return the function')\n",
        "\n",
        "    if name == 'roja':\n",
        "       return super_cool\n",
        "    else:\n",
        "      return very_cool\n",
        "\n",
        "    print('this is the end of the cool function')"
      ],
      "metadata": {
        "id": "p0-OOCHKYZso"
      },
      "execution_count": null,
      "outputs": []
    },
    {
      "cell_type": "code",
      "source": [
        "s1=cool()"
      ],
      "metadata": {
        "colab": {
          "base_uri": "https://localhost:8080/"
        },
        "id": "OgK1MD3GYgYv",
        "outputId": "cd39469a-95b4-4219-a573-ad1662e61735"
      },
      "execution_count": null,
      "outputs": [
        {
          "output_type": "stream",
          "name": "stdout",
          "text": [
            "i am cool\n",
            " i am going to return the function\n"
          ]
        }
      ]
    },
    {
      "cell_type": "code",
      "source": [
        "s1"
      ],
      "metadata": {
        "colab": {
          "base_uri": "https://localhost:8080/"
        },
        "id": "5_FWviscY6KV",
        "outputId": "31310be9-eff0-4dfc-f1b4-b4dc227e941b"
      },
      "execution_count": null,
      "outputs": [
        {
          "output_type": "execute_result",
          "data": {
            "text/plain": [
              "<function __main__.cool.<locals>.super_cool>"
            ]
          },
          "metadata": {},
          "execution_count": 56
        }
      ]
    },
    {
      "cell_type": "code",
      "source": [
        "s1()"
      ],
      "metadata": {
        "colab": {
          "base_uri": "https://localhost:8080/"
        },
        "id": "nprGsSSwdYZI",
        "outputId": "667e9241-6ea3-4a2e-9ae7-194ecf88aaad"
      },
      "execution_count": null,
      "outputs": [
        {
          "output_type": "stream",
          "name": "stdout",
          "text": [
            "i am super cool fuction insider the cool function\n"
          ]
        }
      ]
    },
    {
      "cell_type": "code",
      "source": [
        "s2=cool('juju')"
      ],
      "metadata": {
        "colab": {
          "base_uri": "https://localhost:8080/"
        },
        "id": "E2UL_XjNdZOx",
        "outputId": "6715e0b9-1907-411f-a57c-25112a50b264"
      },
      "execution_count": null,
      "outputs": [
        {
          "output_type": "stream",
          "name": "stdout",
          "text": [
            "i am cool\n",
            " i am going to return the function\n"
          ]
        }
      ]
    },
    {
      "cell_type": "code",
      "source": [
        "s2"
      ],
      "metadata": {
        "colab": {
          "base_uri": "https://localhost:8080/"
        },
        "id": "qics9P4Adcsn",
        "outputId": "509431bc-462b-4d01-c9bf-94d26736be2f"
      },
      "execution_count": null,
      "outputs": [
        {
          "output_type": "execute_result",
          "data": {
            "text/plain": [
              "<function __main__.cool.<locals>.very_cool>"
            ]
          },
          "metadata": {},
          "execution_count": 59
        }
      ]
    },
    {
      "cell_type": "code",
      "source": [
        "s2()"
      ],
      "metadata": {
        "colab": {
          "base_uri": "https://localhost:8080/"
        },
        "id": "BPWtOpp0dduU",
        "outputId": "86f66f9b-3e47-4afb-e646-6561f42869eb"
      },
      "execution_count": null,
      "outputs": [
        {
          "output_type": "stream",
          "name": "stdout",
          "text": [
            " i am very cool inside the cool function\n"
          ]
        }
      ]
    },
    {
      "cell_type": "code",
      "source": [
        "def hello():\n",
        "\n",
        "  print('hello!!')\n",
        "\n",
        "  def hi():\n",
        "    print('hi')\n",
        "\n",
        "  return hi"
      ],
      "metadata": {
        "id": "VJBJlISxdeV8"
      },
      "execution_count": null,
      "outputs": []
    },
    {
      "cell_type": "code",
      "source": [
        "h1=hello()"
      ],
      "metadata": {
        "colab": {
          "base_uri": "https://localhost:8080/"
        },
        "id": "qHG_BuYTdjgr",
        "outputId": "89b41e22-7a0d-4697-feeb-bac0d707a534"
      },
      "execution_count": null,
      "outputs": [
        {
          "output_type": "stream",
          "name": "stdout",
          "text": [
            "hello!!\n"
          ]
        }
      ]
    },
    {
      "cell_type": "code",
      "source": [
        "h1"
      ],
      "metadata": {
        "colab": {
          "base_uri": "https://localhost:8080/"
        },
        "id": "yueSpKczdjnM",
        "outputId": "7d8f2601-83d6-4c2d-f736-5602bf7b91b7"
      },
      "execution_count": null,
      "outputs": [
        {
          "output_type": "execute_result",
          "data": {
            "text/plain": [
              "<function __main__.hello.<locals>.hi>"
            ]
          },
          "metadata": {},
          "execution_count": 64
        }
      ]
    },
    {
      "cell_type": "code",
      "source": [
        "h1()"
      ],
      "metadata": {
        "colab": {
          "base_uri": "https://localhost:8080/"
        },
        "id": "FMdJNcNsdjs5",
        "outputId": "123c10c6-b37d-4c4e-b8a2-29bed8153839"
      },
      "execution_count": null,
      "outputs": [
        {
          "output_type": "stream",
          "name": "stdout",
          "text": [
            "hi\n"
          ]
        }
      ]
    },
    {
      "cell_type": "code",
      "source": [
        "#passing function as an argument in other functions\n",
        "def hello():\n",
        "  print('hello')"
      ],
      "metadata": {
        "id": "hg4f_oxAdjx0"
      },
      "execution_count": null,
      "outputs": []
    },
    {
      "cell_type": "code",
      "source": [
        "def other(some_other_func):\n",
        "  print('other code runs here')\n",
        "  print(some_other_func())"
      ],
      "metadata": {
        "id": "uayYeNC2m6R9"
      },
      "execution_count": null,
      "outputs": []
    },
    {
      "cell_type": "code",
      "source": [
        "other(hello)"
      ],
      "metadata": {
        "colab": {
          "base_uri": "https://localhost:8080/"
        },
        "id": "0YlbqWvtnYGn",
        "outputId": "1b1b4011-e2e5-40af-a41e-cd55df1baa39"
      },
      "execution_count": null,
      "outputs": [
        {
          "output_type": "stream",
          "name": "stdout",
          "text": [
            "other code runs here\n",
            "hello\n",
            "None\n"
          ]
        }
      ]
    },
    {
      "cell_type": "code",
      "source": [
        "# Function Returning Another Function in Python\n",
        "\n",
        "def str1():\n",
        "  print('python')\n",
        "\n",
        "def fun1():\n",
        "  return str1"
      ],
      "metadata": {
        "id": "9QSK104JnZ-S"
      },
      "execution_count": null,
      "outputs": []
    },
    {
      "cell_type": "code",
      "source": [
        "var1=fun1()"
      ],
      "metadata": {
        "id": "Clu0uriGsgtY"
      },
      "execution_count": null,
      "outputs": []
    },
    {
      "cell_type": "code",
      "source": [
        "var1"
      ],
      "metadata": {
        "colab": {
          "base_uri": "https://localhost:8080/"
        },
        "id": "kyaNFPt4siij",
        "outputId": "c0c9ac97-9d14-4162-f7b1-b5aada1de6d5"
      },
      "execution_count": null,
      "outputs": [
        {
          "output_type": "execute_result",
          "data": {
            "text/plain": [
              "<function __main__.str1>"
            ]
          },
          "metadata": {},
          "execution_count": 73
        }
      ]
    },
    {
      "cell_type": "code",
      "source": [
        "var1()"
      ],
      "metadata": {
        "colab": {
          "base_uri": "https://localhost:8080/"
        },
        "id": "5vjPRcgksjzn",
        "outputId": "78d16b4d-9fa4-40a2-98b9-9ab67740db6d"
      },
      "execution_count": null,
      "outputs": [
        {
          "output_type": "stream",
          "name": "stdout",
          "text": [
            "python\n"
          ]
        }
      ]
    },
    {
      "cell_type": "code",
      "source": [
        "def math():\n",
        "    def square(num):\n",
        "        return num**2\n",
        " #   print(square(2))\n",
        "    print('roja')\n",
        "math()"
      ],
      "metadata": {
        "colab": {
          "base_uri": "https://localhost:8080/"
        },
        "id": "rqolQ9XWsu_E",
        "outputId": "8265c8de-05ff-41ef-a2de-b0ea60204a2e"
      },
      "execution_count": null,
      "outputs": [
        {
          "output_type": "stream",
          "name": "stdout",
          "text": [
            "roja\n"
          ]
        }
      ]
    },
    {
      "cell_type": "code",
      "source": [
        "def my_decor(func):\n",
        "    def my_wrap(str1, str2):\n",
        "        print(\"Decorator Function\")\n",
        "        return func(str1, str2)\n",
        "    return my_wrap\n",
        "def my_function(str1, str2):\n",
        "    print(\"Main Function\")\n",
        "    print(str1 + \" are \" +  str2)\n",
        "my_function = my_decor(my_function)\n",
        "my_function(\"Mangoes\", \"Sweet\")"
      ],
      "metadata": {
        "colab": {
          "base_uri": "https://localhost:8080/"
        },
        "id": "oqq71WuSs5dI",
        "outputId": "9582df63-1983-4f1a-addd-a0d10017ff67"
      },
      "execution_count": null,
      "outputs": [
        {
          "output_type": "stream",
          "name": "stdout",
          "text": [
            "Decorator Function\n",
            "Main Function\n",
            "Mangoes are Sweet\n"
          ]
        }
      ]
    },
    {
      "cell_type": "code",
      "source": [
        "def sumdif(a,b):\n",
        "  d=a+b\n",
        "  e=a-b\n",
        "  f=a*b\n",
        "  return d,e,f\n"
      ],
      "metadata": {
        "id": "qrVXWGLNvKSq"
      },
      "execution_count": null,
      "outputs": []
    },
    {
      "cell_type": "code",
      "source": [
        "sumdif(6,5)"
      ],
      "metadata": {
        "colab": {
          "base_uri": "https://localhost:8080/"
        },
        "id": "EXOf5t5a2qvK",
        "outputId": "66becf1b-9ea9-43fd-9d98-8c7bdc9e4db6"
      },
      "execution_count": null,
      "outputs": [
        {
          "output_type": "execute_result",
          "data": {
            "text/plain": [
              "(11, 1, 30)"
            ]
          },
          "metadata": {},
          "execution_count": 87
        }
      ]
    },
    {
      "cell_type": "code",
      "source": [
        "#decorator function\n",
        "def decorator1(mainfunc):\n",
        "  print('it is decorator function')\n",
        "\n",
        "  def wrap_func():\n",
        "    print(' some extra code before the main function')\n",
        "\n",
        "    mainfunc()\n",
        "\n",
        "    print('some extra code after the main function')\n",
        "\n",
        "  return wrap_func\n",
        "\n",
        "#mainfunction\n",
        "\n",
        "def func():\n",
        "  print('main function')\n",
        "\n",
        "#calling a decorator\n",
        "\n",
        "dec1=decorator1(func)\n"
      ],
      "metadata": {
        "colab": {
          "base_uri": "https://localhost:8080/"
        },
        "id": "6HtmNeAq2xE3",
        "outputId": "ec13fe7c-2e05-4bed-e808-1b23f7935c31"
      },
      "execution_count": null,
      "outputs": [
        {
          "output_type": "stream",
          "name": "stdout",
          "text": [
            "it is decorator function\n"
          ]
        }
      ]
    },
    {
      "cell_type": "code",
      "source": [
        "dec1"
      ],
      "metadata": {
        "colab": {
          "base_uri": "https://localhost:8080/"
        },
        "id": "zh7XBxn_5gN9",
        "outputId": "82fcfa89-4883-4fab-86cb-cc764c4b486c"
      },
      "execution_count": null,
      "outputs": [
        {
          "output_type": "execute_result",
          "data": {
            "text/plain": [
              "<function __main__.decorator1.<locals>.wrap_func>"
            ]
          },
          "metadata": {},
          "execution_count": 91
        }
      ]
    },
    {
      "cell_type": "code",
      "source": [
        "dec1()"
      ],
      "metadata": {
        "colab": {
          "base_uri": "https://localhost:8080/"
        },
        "id": "_FPvmFMW5mu-",
        "outputId": "da047c36-4bad-4b4a-843f-35d788858001"
      },
      "execution_count": null,
      "outputs": [
        {
          "output_type": "stream",
          "name": "stdout",
          "text": [
            " some extra code before the main function\n",
            "main function\n",
            "some extra code after the main function\n"
          ]
        }
      ]
    },
    {
      "cell_type": "code",
      "source": [
        "#decorator function\n",
        "def decorator2(mainfunc1):\n",
        "  print('it is decorator function')\n",
        "\n",
        "  def wrap_func(a,b):\n",
        "    print(' some extra code before the main function')\n",
        "    mainfunc1(a,b)\n",
        "    print('some extra code after the main function')\n",
        "\n",
        "  return wrap_func\n",
        "\n",
        "#mainfunction\n",
        "\n",
        "def func1(a,b):\n",
        "  print('main function')\n",
        "  print(a+b)\n",
        "#calling a decorator\n",
        "\n",
        "dec2=decorator2(func1)"
      ],
      "metadata": {
        "colab": {
          "base_uri": "https://localhost:8080/"
        },
        "id": "KbcUX1fW5mz9",
        "outputId": "e1392d25-aa99-4d9c-df98-1876fe9a0191"
      },
      "execution_count": null,
      "outputs": [
        {
          "output_type": "stream",
          "name": "stdout",
          "text": [
            "it is decorator function\n"
          ]
        }
      ]
    },
    {
      "cell_type": "code",
      "source": [
        "dec2"
      ],
      "metadata": {
        "colab": {
          "base_uri": "https://localhost:8080/"
        },
        "id": "tlUzo8iV5m6q",
        "outputId": "c0c29448-4a1e-4188-9a04-564dfcac3a20"
      },
      "execution_count": null,
      "outputs": [
        {
          "output_type": "execute_result",
          "data": {
            "text/plain": [
              "<function __main__.decorator2.<locals>.wrap_func>"
            ]
          },
          "metadata": {},
          "execution_count": 110
        }
      ]
    },
    {
      "cell_type": "code",
      "source": [
        "dec2(3,4)"
      ],
      "metadata": {
        "colab": {
          "base_uri": "https://localhost:8080/"
        },
        "id": "RUtXD61F60d-",
        "outputId": "dcdd591b-4825-40b6-9c99-cb29c12de9b5"
      },
      "execution_count": null,
      "outputs": [
        {
          "output_type": "stream",
          "name": "stdout",
          "text": [
            " some extra code before the main function\n",
            "main function\n",
            "7\n",
            "some extra code after the main function\n"
          ]
        }
      ]
    },
    {
      "cell_type": "code",
      "source": [
        "def my_decor(func):\n",
        "    def my_wrap(str1, str2):\n",
        "        print(\"Decorator Function\")\n",
        "        return func(str1, str2)\n",
        "    return my_wrap\n",
        "def my_function(str1, str2):\n",
        "    print(\"Main Function\")\n",
        "    print(str1 + \" are \" +  str2)\n",
        "d1 = my_decor(my_function)\n",
        "d1(\"Mangoes\", \"Sweet\")"
      ],
      "metadata": {
        "colab": {
          "base_uri": "https://localhost:8080/"
        },
        "id": "NTgs52xc61fh",
        "outputId": "d2b1083a-f6f1-411f-ddcd-e7e781d0e84a"
      },
      "execution_count": null,
      "outputs": [
        {
          "output_type": "stream",
          "name": "stdout",
          "text": [
            "Decorator Function\n",
            "Main Function\n",
            "Mangoes are Sweet\n"
          ]
        }
      ]
    },
    {
      "cell_type": "code",
      "source": [
        ""
      ],
      "metadata": {
        "id": "xU7wFg-xAWIk"
      },
      "execution_count": null,
      "outputs": []
    },
    {
      "cell_type": "code",
      "source": [
        "def doller(func):\n",
        "  def w():\n",
        "   print('$$$$$')\n",
        "   func()\n",
        "   print('$$$$$')\n",
        "  \n",
        "  return w\n",
        "\n",
        "def hello():\n",
        "  print('hello world')"
      ],
      "metadata": {
        "id": "OR_crB9OAWOP"
      },
      "execution_count": null,
      "outputs": []
    },
    {
      "cell_type": "code",
      "source": [
        "d1=doller(hello)"
      ],
      "metadata": {
        "id": "ObZokHDHDSVD"
      },
      "execution_count": null,
      "outputs": []
    },
    {
      "cell_type": "code",
      "source": [
        "d1()"
      ],
      "metadata": {
        "colab": {
          "base_uri": "https://localhost:8080/"
        },
        "id": "1p5wh57lDSZ9",
        "outputId": "8f8287fa-bd7c-41e5-bdee-811e2b16fec8"
      },
      "execution_count": null,
      "outputs": [
        {
          "output_type": "stream",
          "name": "stdout",
          "text": [
            "$$$$$\n",
            "hello world\n",
            "$$$$$\n"
          ]
        }
      ]
    },
    {
      "cell_type": "code",
      "source": [
        "@doller\n",
        "def geeks():\n",
        "  print('pythongeeks')\n",
        "\n",
        "geeks()\n"
      ],
      "metadata": {
        "colab": {
          "base_uri": "https://localhost:8080/"
        },
        "id": "2eaoquVMFzpY",
        "outputId": "8c6de4dd-efb7-4118-da65-2f594015b456"
      },
      "execution_count": null,
      "outputs": [
        {
          "output_type": "stream",
          "name": "stdout",
          "text": [
            "$$$$$\n",
            "pythongeeks\n",
            "$$$$$\n"
          ]
        }
      ]
    },
    {
      "cell_type": "code",
      "source": [
        ""
      ],
      "metadata": {
        "id": "mv7lP1r-FzuJ"
      },
      "execution_count": null,
      "outputs": []
    },
    {
      "cell_type": "code",
      "source": [
        "def my_decor(func):\n",
        "    def my_wrap(*args, **kwargs):\n",
        "        print(\"Decorator Function\")\n",
        "        return func(*args, **kwargs)\n",
        "    return my_wrap\n",
        "@my_decor\n",
        "def my_function(str1, str2):\n",
        "    print(\"Main Function\")\n",
        "    print(str1 + \" are \" +  str2)\n",
        "my_function(\"Mangoes\", \"Delicious\")"
      ],
      "metadata": {
        "colab": {
          "base_uri": "https://localhost:8080/"
        },
        "id": "jhUJLCnQAWYx",
        "outputId": "0b11b2f5-7ad7-4ab7-9861-4d460d576d8e"
      },
      "execution_count": null,
      "outputs": [
        {
          "output_type": "stream",
          "name": "stdout",
          "text": [
            "Decorator Function\n",
            "Main Function\n",
            "Mangoes are Delicious\n"
          ]
        }
      ]
    },
    {
      "cell_type": "code",
      "source": [
        "def my_decor(func):\n",
        "    def my_wrap(*args, **kwargs):\n",
        "        print(\"Decorator Function 1\")\n",
        "        return func(*args, **kwargs)\n",
        "    return my_wrap\n",
        "\n",
        "def my_another_decor(func):\n",
        "    def my_wrap(*args, **kwargs):\n",
        "        print(\"Decorator Function 2\")\n",
        "        return func(*args, **kwargs)\n",
        "    return my_wrap\n",
        "    \n",
        "@my_decor\n",
        "@my_another_decor\n",
        "def my_function(str1, str2):\n",
        "    print(\"Main Function\")\n",
        "    print(str1 + \" are \" +  str2)\n",
        "my_function(\"Mangoes\", \"Delicious\")"
      ],
      "metadata": {
        "colab": {
          "base_uri": "https://localhost:8080/"
        },
        "id": "oPFWzPy2AWed",
        "outputId": "2e8d1339-85d2-4c99-b4dd-1c71514e3a39"
      },
      "execution_count": null,
      "outputs": [
        {
          "output_type": "stream",
          "name": "stdout",
          "text": [
            "Decorator Function 1\n",
            "Decorator Function 2\n",
            "Main Function\n",
            "Mangoes are Delicious\n"
          ]
        }
      ]
    },
    {
      "cell_type": "markdown",
      "source": [
        "GENERATORS"
      ],
      "metadata": {
        "id": "9VetoJWwAUnG"
      }
    },
    {
      "cell_type": "code",
      "source": [
        "def gen():\n",
        "  yield 1\n",
        "  yield 2\n",
        "  yield 3"
      ],
      "metadata": {
        "id": "MyZhP4OSAUqg"
      },
      "execution_count": null,
      "outputs": []
    },
    {
      "cell_type": "code",
      "source": [
        "for i in gen():\n",
        "  print(i)"
      ],
      "metadata": {
        "colab": {
          "base_uri": "https://localhost:8080/"
        },
        "id": "uq5ddVyq8LL2",
        "outputId": "39180785-2264-472f-fddf-052e32fff757"
      },
      "execution_count": null,
      "outputs": [
        {
          "output_type": "stream",
          "name": "stdout",
          "text": [
            "1\n",
            "2\n",
            "3\n"
          ]
        }
      ]
    },
    {
      "cell_type": "code",
      "source": [
        "def gen1():\n",
        "  yield 1\n",
        "  yield 2\n",
        "  yield 3"
      ],
      "metadata": {
        "id": "dKmuHrl_B9-6"
      },
      "execution_count": null,
      "outputs": []
    },
    {
      "cell_type": "code",
      "source": [
        "x=gen1"
      ],
      "metadata": {
        "id": "2NbiIRoZB-Do"
      },
      "execution_count": null,
      "outputs": []
    },
    {
      "cell_type": "code",
      "source": [
        "def simpleGeneratorFun():\n",
        "    yield 1\n",
        "    yield 2\n",
        "    yield 3\n",
        "   \n",
        "# x is a generator object\n",
        "x = simpleGeneratorFun()\n"
      ],
      "metadata": {
        "colab": {
          "base_uri": "https://localhost:8080/",
          "height": 200
        },
        "id": "wYkqbqH6B-Id",
        "outputId": "a47a57bf-92ab-49ae-db7e-c17ca74fd446"
      },
      "execution_count": null,
      "outputs": [
        {
          "output_type": "error",
          "ename": "AttributeError",
          "evalue": "ignored",
          "traceback": [
            "\u001b[0;31m---------------------------------------------------------------------------\u001b[0m",
            "\u001b[0;31mAttributeError\u001b[0m                            Traceback (most recent call last)",
            "\u001b[0;32m<ipython-input-13-56a3e7c38f95>\u001b[0m in \u001b[0;36m<module>\u001b[0;34m()\u001b[0m\n\u001b[1;32m      7\u001b[0m \u001b[0mx\u001b[0m \u001b[0;34m=\u001b[0m \u001b[0msimpleGeneratorFun\u001b[0m\u001b[0;34m(\u001b[0m\u001b[0;34m)\u001b[0m\u001b[0;34m\u001b[0m\u001b[0;34m\u001b[0m\u001b[0m\n\u001b[1;32m      8\u001b[0m \u001b[0;34m\u001b[0m\u001b[0m\n\u001b[0;32m----> 9\u001b[0;31m \u001b[0mprint\u001b[0m\u001b[0;34m(\u001b[0m\u001b[0mx\u001b[0m\u001b[0;34m.\u001b[0m\u001b[0mNext\u001b[0m\u001b[0;34m(\u001b[0m\u001b[0;34m)\u001b[0m\u001b[0;34m)\u001b[0m\u001b[0;34m\u001b[0m\u001b[0;34m\u001b[0m\u001b[0m\n\u001b[0m",
            "\u001b[0;31mAttributeError\u001b[0m: 'generator' object has no attribute 'Next'"
          ]
        }
      ]
    },
    {
      "cell_type": "code",
      "source": [
        "def fib(limit):\n",
        "      \n",
        "    # Initialize first two Fibonacci Numbers \n",
        "    a, b = 0, 1\n",
        "  \n",
        "    # One by one yield next Fibonacci Number\n",
        "    while a < limit:\n",
        "        yield a\n",
        "        a, b = b, a + b\n",
        "  \n",
        "# Create a generator object\n",
        "x = fib(5)\n",
        "  \n",
        "# Iterating over the generator object using next\n",
        "print(x.next()) # In Python 3, __next__()\n",
        "print(x.next())\n",
        "print(x.next())\n",
        "print(x.next())\n",
        "print(x.next())"
      ],
      "metadata": {
        "colab": {
          "base_uri": "https://localhost:8080/",
          "height": 234
        },
        "id": "VLZ516A7B-NC",
        "outputId": "ae3ffe6e-0400-4f5b-e306-c490592d2f1e"
      },
      "execution_count": null,
      "outputs": [
        {
          "output_type": "error",
          "ename": "AttributeError",
          "evalue": "ignored",
          "traceback": [
            "\u001b[0;31m---------------------------------------------------------------------------\u001b[0m",
            "\u001b[0;31mAttributeError\u001b[0m                            Traceback (most recent call last)",
            "\u001b[0;32m<ipython-input-20-0cf7294f45fb>\u001b[0m in \u001b[0;36m<module>\u001b[0;34m()\u001b[0m\n\u001b[1;32m     13\u001b[0m \u001b[0;34m\u001b[0m\u001b[0m\n\u001b[1;32m     14\u001b[0m \u001b[0;31m# Iterating over the generator object using next\u001b[0m\u001b[0;34m\u001b[0m\u001b[0;34m\u001b[0m\u001b[0;34m\u001b[0m\u001b[0m\n\u001b[0;32m---> 15\u001b[0;31m \u001b[0mprint\u001b[0m\u001b[0;34m(\u001b[0m\u001b[0mx\u001b[0m\u001b[0;34m.\u001b[0m\u001b[0mnext\u001b[0m\u001b[0;34m(\u001b[0m\u001b[0;34m)\u001b[0m\u001b[0;34m)\u001b[0m \u001b[0;31m# In Python 3, __next__()\u001b[0m\u001b[0;34m\u001b[0m\u001b[0;34m\u001b[0m\u001b[0m\n\u001b[0m\u001b[1;32m     16\u001b[0m \u001b[0mprint\u001b[0m\u001b[0;34m(\u001b[0m\u001b[0mx\u001b[0m\u001b[0;34m.\u001b[0m\u001b[0mnext\u001b[0m\u001b[0;34m(\u001b[0m\u001b[0;34m)\u001b[0m\u001b[0;34m)\u001b[0m\u001b[0;34m\u001b[0m\u001b[0;34m\u001b[0m\u001b[0m\n\u001b[1;32m     17\u001b[0m \u001b[0mprint\u001b[0m\u001b[0;34m(\u001b[0m\u001b[0mx\u001b[0m\u001b[0;34m.\u001b[0m\u001b[0mnext\u001b[0m\u001b[0;34m(\u001b[0m\u001b[0;34m)\u001b[0m\u001b[0;34m)\u001b[0m\u001b[0;34m\u001b[0m\u001b[0;34m\u001b[0m\u001b[0m\n",
            "\u001b[0;31mAttributeError\u001b[0m: 'generator' object has no attribute 'next'"
          ]
        }
      ]
    },
    {
      "cell_type": "code",
      "source": [
        "for i in fib(10):\n",
        "  print(i)"
      ],
      "metadata": {
        "colab": {
          "base_uri": "https://localhost:8080/",
          "height": 304
        },
        "id": "JDbbSraWB-V4",
        "outputId": "d1d1d6c4-6b12-4154-9a71-d507989a7526"
      },
      "execution_count": null,
      "outputs": [
        {
          "output_type": "error",
          "ename": "TypeError",
          "evalue": "ignored",
          "traceback": [
            "\u001b[0;31m---------------------------------------------------------------------------\u001b[0m",
            "\u001b[0;31mTypeError\u001b[0m                                 Traceback (most recent call last)",
            "\u001b[0;32m<ipython-input-19-9e74a167cdaf>\u001b[0m in \u001b[0;36m<module>\u001b[0;34m()\u001b[0m\n\u001b[0;32m----> 1\u001b[0;31m \u001b[0;32mfor\u001b[0m \u001b[0mi\u001b[0m \u001b[0;32min\u001b[0m \u001b[0mfib\u001b[0m\u001b[0;34m(\u001b[0m\u001b[0;36m10\u001b[0m\u001b[0;34m)\u001b[0m\u001b[0;34m:\u001b[0m\u001b[0;34m\u001b[0m\u001b[0;34m\u001b[0m\u001b[0m\n\u001b[0m\u001b[1;32m      2\u001b[0m   \u001b[0mprint\u001b[0m\u001b[0;34m(\u001b[0m\u001b[0mi\u001b[0m\u001b[0;34m)\u001b[0m\u001b[0;34m\u001b[0m\u001b[0;34m\u001b[0m\u001b[0m\n",
            "\u001b[0;32m<ipython-input-16-94c5f62c33b4>\u001b[0m in \u001b[0;36mfib\u001b[0;34m(lim)\u001b[0m\n\u001b[1;32m      2\u001b[0m   \u001b[0ma\u001b[0m\u001b[0;34m,\u001b[0m\u001b[0mb\u001b[0m\u001b[0;34m=\u001b[0m\u001b[0;36m1\u001b[0m\u001b[0;34m,\u001b[0m\u001b[0;36m1\u001b[0m\u001b[0;34m\u001b[0m\u001b[0;34m\u001b[0m\u001b[0m\n\u001b[1;32m      3\u001b[0m \u001b[0;34m\u001b[0m\u001b[0m\n\u001b[0;32m----> 4\u001b[0;31m   \u001b[0;32mfor\u001b[0m \u001b[0mi\u001b[0m \u001b[0;32min\u001b[0m \u001b[0mlim\u001b[0m\u001b[0;34m:\u001b[0m\u001b[0;34m\u001b[0m\u001b[0;34m\u001b[0m\u001b[0m\n\u001b[0m\u001b[1;32m      5\u001b[0m     \u001b[0;32myield\u001b[0m \u001b[0ma\u001b[0m\u001b[0;34m\u001b[0m\u001b[0;34m\u001b[0m\u001b[0m\n\u001b[1;32m      6\u001b[0m     \u001b[0ma\u001b[0m\u001b[0;34m,\u001b[0m\u001b[0mb\u001b[0m\u001b[0;34m=\u001b[0m\u001b[0mb\u001b[0m\u001b[0;34m,\u001b[0m\u001b[0ma\u001b[0m\u001b[0;34m+\u001b[0m\u001b[0mb\u001b[0m\u001b[0;34m\u001b[0m\u001b[0;34m\u001b[0m\u001b[0m\n",
            "\u001b[0;31mTypeError\u001b[0m: 'int' object is not iterable"
          ]
        }
      ]
    },
    {
      "cell_type": "markdown",
      "source": [
        "global and local variable"
      ],
      "metadata": {
        "id": "ZT7pEPrtB-bN"
      }
    },
    {
      "cell_type": "code",
      "source": [
        "r='roja'\n",
        "def f():\n",
        "  r='cm'\n",
        "  print(r)\n",
        "\n",
        "f()\n",
        "print(r)"
      ],
      "metadata": {
        "id": "Dba-KOY78MVF",
        "colab": {
          "base_uri": "https://localhost:8080/"
        },
        "outputId": "4278bcc3-844c-4985-c480-8968b6753025"
      },
      "execution_count": null,
      "outputs": [
        {
          "output_type": "stream",
          "name": "stdout",
          "text": [
            "cm\n",
            "roja\n"
          ]
        }
      ]
    },
    {
      "cell_type": "code",
      "source": [
        "k='roja'\n",
        "def j():\n",
        "  global k\n",
        "  k+='cm'\n",
        "  print(k)\n"
      ],
      "metadata": {
        "id": "yqbOo9l0NGZF"
      },
      "execution_count": null,
      "outputs": []
    },
    {
      "cell_type": "code",
      "source": [
        "j()"
      ],
      "metadata": {
        "colab": {
          "base_uri": "https://localhost:8080/"
        },
        "id": "3d63XxMqNT3C",
        "outputId": "9e54d884-999e-4807-d5a5-b39c466a9393"
      },
      "execution_count": null,
      "outputs": [
        {
          "output_type": "stream",
          "name": "stdout",
          "text": [
            "rojacm\n"
          ]
        }
      ]
    },
    {
      "cell_type": "code",
      "source": [
        "k"
      ],
      "metadata": {
        "id": "ywXMdnABNVIy",
        "outputId": "8b7da842-2a03-42b5-f6ad-af55c7e585d1",
        "colab": {
          "base_uri": "https://localhost:8080/",
          "height": 35
        }
      },
      "execution_count": null,
      "outputs": [
        {
          "output_type": "execute_result",
          "data": {
            "application/vnd.google.colaboratory.intrinsic+json": {
              "type": "string"
            },
            "text/plain": [
              "'rojacm'"
            ]
          },
          "metadata": {},
          "execution_count": 6
        }
      ]
    },
    {
      "cell_type": "code",
      "source": [
        "#function can be passed as argument to other functions\n",
        "\n",
        "def f1(t1):\n",
        "  return t1.upper()\n",
        "  \n",
        "def f2(t2):\n",
        "  return t2.lower()\n",
        "  \n",
        "def f3(func):\n",
        "    g= func('i am roja cm')\n",
        "    print(g)\n",
        "\n"
      ],
      "metadata": {
        "id": "jTPUbC_fNawG"
      },
      "execution_count": null,
      "outputs": []
    },
    {
      "cell_type": "code",
      "source": [
        "f3(f1)\n",
        "f3(f2)"
      ],
      "metadata": {
        "colab": {
          "base_uri": "https://localhost:8080/"
        },
        "id": "SeSThAaKW3_a",
        "outputId": "99936085-cae9-4acd-8174-d5ba76760997"
      },
      "execution_count": null,
      "outputs": [
        {
          "output_type": "stream",
          "name": "stdout",
          "text": [
            "I AM ROJA CM\n",
            "i am roja cm\n"
          ]
        }
      ]
    },
    {
      "cell_type": "code",
      "source": [
        "#example 2\n",
        "def shout(text):\n",
        "    return text.upper()\n",
        "  \n",
        "def whisper(text):\n",
        "    return text.lower()\n",
        "  \n",
        "def greet(func):\n",
        "    # storing the function in a variable\n",
        "    greeting = func(\"\"\"Hi, I am created by a function\n",
        "                    passed as an argument.\"\"\")\n",
        "    print (greeting) \n",
        "  \n",
        "greet(shout)\n",
        "greet(whisper)"
      ],
      "metadata": {
        "colab": {
          "base_uri": "https://localhost:8080/"
        },
        "id": "V2vIbX-gW4nT",
        "outputId": "bb09c925-9e94-4952-e398-138cc8a5a803"
      },
      "execution_count": null,
      "outputs": [
        {
          "output_type": "stream",
          "name": "stdout",
          "text": [
            "HI, I AM CREATED BY A FUNCTION\n",
            "                    PASSED AS AN ARGUMENT.\n",
            "hi, i am created by a function\n",
            "                    passed as an argument.\n"
          ]
        }
      ]
    },
    {
      "cell_type": "code",
      "source": [
        "#Functions can return another function: \n",
        "\n",
        "def a1(x):\n",
        "  def a2(y):\n",
        "    return x+y\n",
        "  return a2"
      ],
      "metadata": {
        "id": "94N3qaTVW4tb"
      },
      "execution_count": null,
      "outputs": []
    },
    {
      "cell_type": "code",
      "source": [
        "a3=a1(15)"
      ],
      "metadata": {
        "id": "4w1Q4eduZpSq"
      },
      "execution_count": null,
      "outputs": []
    },
    {
      "cell_type": "code",
      "source": [
        "a3"
      ],
      "metadata": {
        "colab": {
          "base_uri": "https://localhost:8080/"
        },
        "id": "QsAxgc0CZpV4",
        "outputId": "32e9df36-6d30-4390-82af-811552fad79e"
      },
      "execution_count": null,
      "outputs": [
        {
          "output_type": "execute_result",
          "data": {
            "text/plain": [
              "<function __main__.a1.<locals>.a2>"
            ]
          },
          "metadata": {},
          "execution_count": 17
        }
      ]
    },
    {
      "cell_type": "code",
      "source": [
        "a3(50)"
      ],
      "metadata": {
        "colab": {
          "base_uri": "https://localhost:8080/"
        },
        "id": "8Fou2PETZpaz",
        "outputId": "d552d2a4-f331-4e28-8f83-21177624ffbe"
      },
      "execution_count": null,
      "outputs": [
        {
          "output_type": "execute_result",
          "data": {
            "text/plain": [
              "65"
            ]
          },
          "metadata": {},
          "execution_count": 18
        }
      ]
    },
    {
      "cell_type": "code",
      "source": [
        ""
      ],
      "metadata": {
        "id": "QKxp-KiTZpgF"
      },
      "execution_count": null,
      "outputs": []
    },
    {
      "cell_type": "code",
      "source": [
        ""
      ],
      "metadata": {
        "id": "GFXJhOyfbJIm"
      },
      "execution_count": null,
      "outputs": []
    },
    {
      "cell_type": "code",
      "source": [
        ""
      ],
      "metadata": {
        "id": "xoImmsMrbJND"
      },
      "execution_count": null,
      "outputs": []
    },
    {
      "cell_type": "code",
      "source": [
        ""
      ],
      "metadata": {
        "id": "Urk5BMfObJRJ"
      },
      "execution_count": null,
      "outputs": []
    },
    {
      "cell_type": "code",
      "source": [
        ""
      ],
      "metadata": {
        "id": "PEObU23RbJU0"
      },
      "execution_count": null,
      "outputs": []
    },
    {
      "cell_type": "code",
      "source": [
        ""
      ],
      "metadata": {
        "id": "Cc588GqiW5FR"
      },
      "execution_count": null,
      "outputs": []
    }
  ]
}